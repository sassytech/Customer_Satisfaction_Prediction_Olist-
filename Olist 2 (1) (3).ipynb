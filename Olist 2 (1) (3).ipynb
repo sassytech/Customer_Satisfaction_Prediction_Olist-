{
 "cells": [
  {
   "cell_type": "code",
   "execution_count": 1,
   "id": "37348172",
   "metadata": {},
   "outputs": [],
   "source": [
    "import numpy as np\n",
    "import pandas as pd \n",
    "import seaborn as sns \n",
    "import matplotlib.pyplot as plt "
   ]
  },
  {
   "cell_type": "code",
   "execution_count": 2,
   "id": "4db5db1a",
   "metadata": {},
   "outputs": [],
   "source": [
    "# reading csv files\n",
    "\n",
    "reviews = pd.read_csv('olist_order_reviews_dataset.csv')# primary table\n",
    "orders = pd.read_csv('olist_orders_dataset.csv')\n",
    "customers = pd.read_csv('olist_customers_dataset.csv')\n",
    "payments=pd.read_csv('olist_order_payments_dataset.csv')\n",
    "order_items=pd.read_csv('olist_order_items_dataset.csv')\n",
    "products=pd.read_csv('olist_products_dataset.csv')\n",
    "product_name_translation=pd.read_csv('product_category_name_translation.csv')"
   ]
  },
  {
   "cell_type": "code",
   "execution_count": null,
   "id": "f34b0dd4",
   "metadata": {},
   "outputs": [],
   "source": []
  },
  {
   "cell_type": "code",
   "execution_count": 3,
   "id": "52d8770d",
   "metadata": {},
   "outputs": [
    {
     "name": "stdout",
     "output_type": "stream",
     "text": [
      "reviews_shape :  (99224, 7)\n",
      "orders_shape :  (99441, 8)\n",
      "customers_shape :  (99441, 5)\n",
      "payments_shape :  (103886, 5)\n",
      "order_items_shape :  (112650, 7)\n",
      "products_shape :  (32951, 9)\n",
      "product_name_shape :  (71, 2)\n"
     ]
    }
   ],
   "source": [
    "print(\"reviews_shape : \" , reviews.shape)\n",
    "print(\"orders_shape : \" , orders.shape)\n",
    "print(\"customers_shape : \" , customers.shape)\n",
    "print(\"payments_shape : \" , payments.shape)\n",
    "print(\"order_items_shape : \" , order_items.shape)\n",
    "print(\"products_shape : \" , products.shape)\n",
    "print(\"product_name_shape : \" , product_name_translation.shape)"
   ]
  },
  {
   "cell_type": "code",
   "execution_count": 4,
   "id": "880540a9",
   "metadata": {},
   "outputs": [],
   "source": [
    "merged1 = pd.merge(reviews,orders,on='order_id', how='inner')\n",
    "merged2 = pd.merge(merged1,payments, on='order_id', how='inner')\n",
    "merged3 = pd.merge(merged2, customers, on='customer_id', how='inner')\n",
    "merged4=pd.merge(merged3,order_items,on='order_id',how='inner')\n",
    "merged5=pd.merge(merged4,products,on='product_id',how='inner')\n",
    "merged6=pd.merge(merged5,product_name_translation,on='product_category_name',how='inner')"
   ]
  },
  {
   "cell_type": "code",
   "execution_count": 5,
   "id": "0858b356",
   "metadata": {},
   "outputs": [
    {
     "name": "stdout",
     "output_type": "stream",
     "text": [
      "<class 'pandas.core.frame.DataFrame'>\n",
      "Int64Index: 115609 entries, 0 to 115608\n",
      "Data columns (total 37 columns):\n",
      " #   Column                         Non-Null Count   Dtype  \n",
      "---  ------                         --------------   -----  \n",
      " 0   review_id                      115609 non-null  object \n",
      " 1   order_id                       115609 non-null  object \n",
      " 2   review_score                   115609 non-null  int64  \n",
      " 3   review_comment_title           13801 non-null   object \n",
      " 4   review_comment_message         48906 non-null   object \n",
      " 5   review_creation_date           115609 non-null  object \n",
      " 6   review_answer_timestamp        115609 non-null  object \n",
      " 7   customer_id                    115609 non-null  object \n",
      " 8   order_status                   115609 non-null  object \n",
      " 9   order_purchase_timestamp       115609 non-null  object \n",
      " 10  order_approved_at              115595 non-null  object \n",
      " 11  order_delivered_carrier_date   114414 non-null  object \n",
      " 12  order_delivered_customer_date  113209 non-null  object \n",
      " 13  order_estimated_delivery_date  115609 non-null  object \n",
      " 14  payment_sequential             115609 non-null  int64  \n",
      " 15  payment_type                   115609 non-null  object \n",
      " 16  payment_installments           115609 non-null  int64  \n",
      " 17  payment_value                  115609 non-null  float64\n",
      " 18  customer_unique_id             115609 non-null  object \n",
      " 19  customer_zip_code_prefix       115609 non-null  int64  \n",
      " 20  customer_city                  115609 non-null  object \n",
      " 21  customer_state                 115609 non-null  object \n",
      " 22  order_item_id                  115609 non-null  int64  \n",
      " 23  product_id                     115609 non-null  object \n",
      " 24  seller_id                      115609 non-null  object \n",
      " 25  shipping_limit_date            115609 non-null  object \n",
      " 26  price                          115609 non-null  float64\n",
      " 27  freight_value                  115609 non-null  float64\n",
      " 28  product_category_name          115609 non-null  object \n",
      " 29  product_name_lenght            115609 non-null  float64\n",
      " 30  product_description_lenght     115609 non-null  float64\n",
      " 31  product_photos_qty             115609 non-null  float64\n",
      " 32  product_weight_g               115608 non-null  float64\n",
      " 33  product_length_cm              115608 non-null  float64\n",
      " 34  product_height_cm              115608 non-null  float64\n",
      " 35  product_width_cm               115608 non-null  float64\n",
      " 36  product_category_name_english  115609 non-null  object \n",
      "dtypes: float64(10), int64(5), object(22)\n",
      "memory usage: 33.5+ MB\n"
     ]
    }
   ],
   "source": [
    "df=merged6\n",
    "df.info()"
   ]
  },
  {
   "cell_type": "code",
   "execution_count": 6,
   "id": "29cdc6ad",
   "metadata": {},
   "outputs": [
    {
     "data": {
      "text/plain": [
       "review_id                        96319\n",
       "order_id                         96516\n",
       "review_score                         5\n",
       "review_comment_title              4466\n",
       "review_comment_message           35172\n",
       "review_creation_date               632\n",
       "review_answer_timestamp          87117\n",
       "customer_id                      96516\n",
       "order_status                         7\n",
       "order_purchase_timestamp         86415\n",
       "order_approved_at                49475\n",
       "order_delivered_carrier_date     60487\n",
       "order_delivered_customer_date    74373\n",
       "order_estimated_delivery_date      449\n",
       "payment_sequential                  29\n",
       "payment_type                         4\n",
       "payment_installments                24\n",
       "payment_value                    28657\n",
       "customer_unique_id               93396\n",
       "customer_zip_code_prefix         14907\n",
       "customer_city                     4093\n",
       "customer_state                      27\n",
       "order_item_id                       21\n",
       "product_id                       32171\n",
       "seller_id                         3028\n",
       "shipping_limit_date              53826\n",
       "price                             5879\n",
       "freight_value                     6954\n",
       "product_category_name               71\n",
       "product_name_lenght                 66\n",
       "product_description_lenght        2958\n",
       "product_photos_qty                  19\n",
       "product_weight_g                  2197\n",
       "product_length_cm                   99\n",
       "product_height_cm                  102\n",
       "product_width_cm                    95\n",
       "product_category_name_english       71\n",
       "dtype: int64"
      ]
     },
     "execution_count": 6,
     "metadata": {},
     "output_type": "execute_result"
    }
   ],
   "source": [
    "df.nunique()"
   ]
  },
  {
   "cell_type": "code",
   "execution_count": null,
   "id": "e14afed9",
   "metadata": {},
   "outputs": [],
   "source": [
    "\n"
   ]
  },
  {
   "cell_type": "code",
   "execution_count": 7,
   "id": "3006e6e1",
   "metadata": {},
   "outputs": [
    {
     "data": {
      "text/plain": [
       "review_id                             0\n",
       "order_id                              0\n",
       "review_score                          0\n",
       "review_comment_title             101808\n",
       "review_comment_message            66703\n",
       "review_creation_date                  0\n",
       "review_answer_timestamp               0\n",
       "customer_id                           0\n",
       "order_status                          0\n",
       "order_purchase_timestamp              0\n",
       "order_approved_at                    14\n",
       "order_delivered_carrier_date       1195\n",
       "order_delivered_customer_date      2400\n",
       "order_estimated_delivery_date         0\n",
       "payment_sequential                    0\n",
       "payment_type                          0\n",
       "payment_installments                  0\n",
       "payment_value                         0\n",
       "customer_unique_id                    0\n",
       "customer_zip_code_prefix              0\n",
       "customer_city                         0\n",
       "customer_state                        0\n",
       "order_item_id                         0\n",
       "product_id                            0\n",
       "seller_id                             0\n",
       "shipping_limit_date                   0\n",
       "price                                 0\n",
       "freight_value                         0\n",
       "product_category_name                 0\n",
       "product_name_lenght                   0\n",
       "product_description_lenght            0\n",
       "product_photos_qty                    0\n",
       "product_weight_g                      1\n",
       "product_length_cm                     1\n",
       "product_height_cm                     1\n",
       "product_width_cm                      1\n",
       "product_category_name_english         0\n",
       "dtype: int64"
      ]
     },
     "execution_count": 7,
     "metadata": {},
     "output_type": "execute_result"
    }
   ],
   "source": [
    "df.isnull().sum()"
   ]
  },
  {
   "cell_type": "code",
   "execution_count": 8,
   "id": "014543bf",
   "metadata": {},
   "outputs": [
    {
     "data": {
      "text/plain": [
       "review_id                        0\n",
       "order_id                         0\n",
       "review_score                     0\n",
       "review_comment_title             0\n",
       "review_comment_message           0\n",
       "review_creation_date             0\n",
       "review_answer_timestamp          0\n",
       "customer_id                      0\n",
       "order_status                     0\n",
       "order_purchase_timestamp         0\n",
       "order_approved_at                0\n",
       "order_delivered_carrier_date     0\n",
       "order_delivered_customer_date    0\n",
       "order_estimated_delivery_date    0\n",
       "payment_sequential               0\n",
       "payment_type                     0\n",
       "payment_installments             0\n",
       "payment_value                    0\n",
       "customer_unique_id               0\n",
       "customer_zip_code_prefix         0\n",
       "customer_city                    0\n",
       "customer_state                   0\n",
       "order_item_id                    0\n",
       "product_id                       0\n",
       "seller_id                        0\n",
       "shipping_limit_date              0\n",
       "price                            0\n",
       "freight_value                    0\n",
       "product_category_name            0\n",
       "product_name_lenght              0\n",
       "product_description_lenght       0\n",
       "product_photos_qty               0\n",
       "product_weight_g                 0\n",
       "product_length_cm                0\n",
       "product_height_cm                0\n",
       "product_width_cm                 0\n",
       "product_category_name_english    0\n",
       "dtype: int64"
      ]
     },
     "execution_count": 8,
     "metadata": {},
     "output_type": "execute_result"
    }
   ],
   "source": [
    "df.fillna(0, inplace=True)\n",
    "df.isnull().sum()"
   ]
  },
  {
   "cell_type": "code",
   "execution_count": null,
   "id": "a8e17419",
   "metadata": {},
   "outputs": [],
   "source": [
    " "
   ]
  },
  {
   "cell_type": "code",
   "execution_count": null,
   "id": "a390a150",
   "metadata": {},
   "outputs": [],
   "source": [
    " \n",
    "    "
   ]
  },
  {
   "cell_type": "code",
   "execution_count": null,
   "id": "75107c8f",
   "metadata": {},
   "outputs": [],
   "source": [
    " \n"
   ]
  },
  {
   "cell_type": "markdown",
   "id": "b11f9481",
   "metadata": {},
   "source": [
    "# Univariate analysis"
   ]
  },
  {
   "cell_type": "code",
   "execution_count": 9,
   "id": "6d718ab1",
   "metadata": {},
   "outputs": [
    {
     "data": {
      "text/plain": [
       "count    115609.000000\n",
       "mean          4.034409\n",
       "std           1.385584\n",
       "min           1.000000\n",
       "25%           4.000000\n",
       "50%           5.000000\n",
       "75%           5.000000\n",
       "max           5.000000\n",
       "Name: review_score, dtype: float64"
      ]
     },
     "execution_count": 9,
     "metadata": {},
     "output_type": "execute_result"
    }
   ],
   "source": [
    " df['review_score'].describe()"
   ]
  },
  {
   "cell_type": "code",
   "execution_count": 10,
   "id": "55daa0e1",
   "metadata": {},
   "outputs": [
    {
     "data": {
      "text/plain": [
       "5    65374\n",
       "4    21951\n",
       "1    14546\n",
       "3     9718\n",
       "2     4020\n",
       "Name: review_score, dtype: int64"
      ]
     },
     "execution_count": 10,
     "metadata": {},
     "output_type": "execute_result"
    }
   ],
   "source": [
    "#Calculating the count of each review score \n",
    "review_score_count = df['review_score'].value_counts()\n",
    "review_score_count"
   ]
  },
  {
   "cell_type": "code",
   "execution_count": 11,
   "id": "8edac21e",
   "metadata": {},
   "outputs": [
    {
     "data": {
      "image/png": "[encoded data removed]",
      "text/plain": [
       "<Figure size 432x288 with 1 Axes>"
      ]
     },
     "metadata": {},
     "output_type": "display_data"
    }
   ],
   "source": [
    "# Check the distribution of customer satisfaction ratings\n",
    "plt.pie(review_score_count, labels=review_score_count.index, autopct='%1.1f%%')\n",
    "plt.title('Distribution of Customer Satisfaction')\n",
    "plt.show()"
   ]
  },
  {
   "cell_type": "code",
   "execution_count": 12,
   "id": "85d0e922",
   "metadata": {},
   "outputs": [
    {
     "data": {
      "text/plain": [
       "sao paulo           15540\n",
       "rio de janeiro       6882\n",
       "belo horizonte       2773\n",
       "brasilia             2131\n",
       "curitiba             1521\n",
       "                    ...  \n",
       "sarutaia                1\n",
       "suzanapolis             1\n",
       "candido godoi           1\n",
       "nova roma do sul        1\n",
       "olaria                  1\n",
       "Name: customer_city, Length: 4119, dtype: int64"
      ]
     },
     "execution_count": 12,
     "metadata": {},
     "output_type": "execute_result"
    }
   ],
   "source": [
    "# Univaria/te analysis of the 'customer_state' variable\n",
    "city_counts = customers['customer_city'].value_counts()\n",
    "city_counts"
   ]
  },
  {
   "cell_type": "code",
   "execution_count": 13,
   "id": "6e694111",
   "metadata": {},
   "outputs": [
    {
     "data": {
      "text/plain": [
       "SP    41746\n",
       "RJ    12852\n",
       "MG    11635\n",
       "RS     5466\n",
       "PR     5045\n",
       "SC     3637\n",
       "BA     3380\n",
       "DF     2140\n",
       "ES     2033\n",
       "GO     2020\n",
       "PE     1652\n",
       "CE     1336\n",
       "PA      975\n",
       "MT      907\n",
       "MA      747\n",
       "MS      715\n",
       "PB      536\n",
       "PI      495\n",
       "RN      485\n",
       "AL      413\n",
       "SE      350\n",
       "TO      280\n",
       "RO      253\n",
       "AM      148\n",
       "AC       81\n",
       "AP       68\n",
       "RR       46\n",
       "Name: customer_state, dtype: int64"
      ]
     },
     "execution_count": 13,
     "metadata": {},
     "output_type": "execute_result"
    }
   ],
   "source": [
    "# Univaria/te analysis of the 'customer_state' variable\n",
    "state_counts = customers['customer_state'].value_counts()\n",
    "state_counts"
   ]
  },
  {
   "cell_type": "code",
   "execution_count": 14,
   "id": "43aabceb",
   "metadata": {},
   "outputs": [
    {
     "data": {
      "text/plain": [
       "count     115609\n",
       "unique        27\n",
       "top           SP\n",
       "freq       48797\n",
       "Name: customer_state, dtype: object"
      ]
     },
     "execution_count": 14,
     "metadata": {},
     "output_type": "execute_result"
    }
   ],
   "source": [
    "df[\"customer_state\"].describe()"
   ]
  },
  {
   "cell_type": "code",
   "execution_count": 15,
   "id": "e80f858d",
   "metadata": {},
   "outputs": [
    {
     "name": "stderr",
     "output_type": "stream",
     "text": [
      "C:\\Users\\dell\\anaconda3\\lib\\site-packages\\seaborn\\_decorators.py:36: FutureWarning: Pass the following variables as keyword args: x, y. From version 0.12, the only valid positional argument will be `data`, and passing other arguments without an explicit keyword will result in an error or misinterpretation.\n",
      "  warnings.warn(\n"
     ]
    },
    {
     "data": {
      "image/png": "[encoded data removed]",
      "text/plain": [
       "<Figure size 864x432 with 1 Axes>"
      ]
     },
     "metadata": {
      "needs_background": "light"
     },
     "output_type": "display_data"
    }
   ],
   "source": [
    "plt.figure(figsize=(12,6))\n",
    "sns.barplot(state_counts.index, state_counts.values)\n",
    "\n",
    "plt.title('Number of customers per state')\n",
    "plt.xlabel('State')\n",
    "plt.ylabel('Number of customers')\n",
    "plt.show() "
   ]
  },
  {
   "cell_type": "code",
   "execution_count": 16,
   "id": "9769597b",
   "metadata": {},
   "outputs": [
    {
     "data": {
      "text/plain": [
       "count             115609\n",
       "unique                71\n",
       "top       bed_bath_table\n",
       "freq               11847\n",
       "Name: product_category_name_english, dtype: object"
      ]
     },
     "execution_count": 16,
     "metadata": {},
     "output_type": "execute_result"
    }
   ],
   "source": [
    "df[\"product_category_name_english\"].describe()"
   ]
  },
  {
   "cell_type": "code",
   "execution_count": 17,
   "id": "aca30f10",
   "metadata": {},
   "outputs": [
    {
     "data": {
      "text/plain": [
       "bed_bath_table               11847\n",
       "health_beauty                 9944\n",
       "sports_leisure                8942\n",
       "furniture_decor               8743\n",
       "computers_accessories         8105\n",
       "                             ...  \n",
       "arts_and_craftmanship           24\n",
       "la_cuisine                      15\n",
       "cds_dvds_musicals               14\n",
       "fashion_childrens_clothes        8\n",
       "security_and_services            2\n",
       "Name: product_category_name_english, Length: 71, dtype: int64"
      ]
     },
     "execution_count": 17,
     "metadata": {},
     "output_type": "execute_result"
    }
   ],
   "source": [
    " # Univariate analysis of the 'product_category_name_english' variable\n",
    "category_counts = df['product_category_name_english'].value_counts()\n",
    "category_counts"
   ]
  },
  {
   "cell_type": "code",
   "execution_count": null,
   "id": "be5d5300",
   "metadata": {},
   "outputs": [],
   "source": []
  },
  {
   "cell_type": "code",
   "execution_count": 18,
   "id": "169e64db",
   "metadata": {},
   "outputs": [
    {
     "name": "stderr",
     "output_type": "stream",
     "text": [
      "C:\\Users\\dell\\anaconda3\\lib\\site-packages\\seaborn\\_decorators.py:36: FutureWarning: Pass the following variables as keyword args: x, y. From version 0.12, the only valid positional argument will be `data`, and passing other arguments without an explicit keyword will result in an error or misinterpretation.\n",
      "  warnings.warn(\n"
     ]
    },
    {
     "data": {
      "image/png": "[encoded data removed]",
      "text/plain": [
       "<Figure size 1080x216 with 1 Axes>"
      ]
     },
     "metadata": {
      "needs_background": "light"
     },
     "output_type": "display_data"
    }
   ],
   "source": [
    "plt.figure(figsize=(15,3))\n",
    "sns.barplot(category_counts.index, category_counts.values)\n",
    "plt.title('Number of orders per category')\n",
    "plt.xlabel('Category')\n",
    "plt.ylabel('Number of orders')\n",
    "plt.xticks(rotation=90)\n",
    "plt.show()"
   ]
  },
  {
   "cell_type": "code",
   "execution_count": 19,
   "id": "07eea13c",
   "metadata": {},
   "outputs": [
    {
     "data": {
      "text/plain": [
       "count    115609.000000\n",
       "mean        120.619850\n",
       "std         182.653476\n",
       "min           0.850000\n",
       "25%          39.900000\n",
       "50%          74.900000\n",
       "75%         134.900000\n",
       "max        6735.000000\n",
       "Name: price, dtype: float64"
      ]
     },
     "execution_count": 19,
     "metadata": {},
     "output_type": "execute_result"
    }
   ],
   "source": [
    "df[\"price\"].describe()"
   ]
  },
  {
   "cell_type": "markdown",
   "id": "fb249380",
   "metadata": {},
   "source": [
    "the price refers to the unit price of a product or service, while the payment value refers to the total amount paid by the customer for that product or service, which may include additional fees such as shipping, taxes, or discounts."
   ]
  },
  {
   "cell_type": "code",
   "execution_count": 20,
   "id": "4e36df0b",
   "metadata": {},
   "outputs": [
    {
     "data": {
      "image/png": "[encoded data removed]",
      "text/plain": [
       "<Figure size 864x432 with 1 Axes>"
      ]
     },
     "metadata": {
      "needs_background": "light"
     },
     "output_type": "display_data"
    }
   ],
   "source": [
    " # Univariate analysis of the 'price' variable\n",
    "plt.figure(figsize=(12,6))\n",
    "sns.histplot(df['price'], kde=True)\n",
    "plt.title('Distribution of price')\n",
    "plt.xlabel('price')\n",
    "plt.ylabel('Frequency')\n",
    "plt.show()"
   ]
  },
  {
   "cell_type": "code",
   "execution_count": 21,
   "id": "1b479989",
   "metadata": {},
   "outputs": [
    {
     "data": {
      "text/plain": [
       "count    115609.000000\n",
       "mean        172.387379\n",
       "std         265.873969\n",
       "min           0.000000\n",
       "25%          60.870000\n",
       "50%         108.050000\n",
       "75%         189.480000\n",
       "max       13664.080000\n",
       "Name: payment_value, dtype: float64"
      ]
     },
     "execution_count": 21,
     "metadata": {},
     "output_type": "execute_result"
    }
   ],
   "source": [
    " df['payment_value'].describe()"
   ]
  },
  {
   "cell_type": "code",
   "execution_count": 22,
   "id": "6a03dd64",
   "metadata": {},
   "outputs": [
    {
     "data": {
      "image/png": "[encoded data removed]",
      "text/plain": [
       "<Figure size 864x432 with 1 Axes>"
      ]
     },
     "metadata": {
      "needs_background": "light"
     },
     "output_type": "display_data"
    }
   ],
   "source": [
    "# Univariate analysis of the 'payment_value' variable\n",
    "plt.figure(figsize=(12,6))\n",
    "sns.histplot(df['payment_value'], kde=True)\n",
    "plt.title('Distribution of payment values')\n",
    "plt.xlabel('Payment value')\n",
    "plt.ylabel('Frequency')\n",
    "plt.show()"
   ]
  },
  {
   "cell_type": "code",
   "execution_count": 23,
   "id": "1ad8830d",
   "metadata": {},
   "outputs": [
    {
     "data": {
      "text/plain": [
       "0          185.00\n",
       "1          185.00\n",
       "2          185.00\n",
       "3          185.00\n",
       "4         1199.00\n",
       "           ...   \n",
       "115604      19.00\n",
       "115605      39.90\n",
       "115606      16.49\n",
       "115607     183.29\n",
       "115608     100.00\n",
       "Name: price, Length: 115609, dtype: float64"
      ]
     },
     "execution_count": 23,
     "metadata": {},
     "output_type": "execute_result"
    }
   ],
   "source": [
    "df['price']"
   ]
  },
  {
   "cell_type": "code",
   "execution_count": 24,
   "id": "fba1317c",
   "metadata": {},
   "outputs": [
    {
     "data": {
      "text/plain": [
       "count    115609.000000\n",
       "mean        120.619850\n",
       "std         182.653476\n",
       "min           0.850000\n",
       "25%          39.900000\n",
       "50%          74.900000\n",
       "75%         134.900000\n",
       "max        6735.000000\n",
       "Name: price, dtype: float64"
      ]
     },
     "execution_count": 24,
     "metadata": {},
     "output_type": "execute_result"
    }
   ],
   "source": [
    "# Summary statistics for the 'price' variable\n",
    "df['price'].describe()\n",
    "\n"
   ]
  },
  {
   "cell_type": "code",
   "execution_count": 25,
   "id": "21bb5e85",
   "metadata": {},
   "outputs": [],
   "source": [
    "# mean provide insights into the average price of the product.\n",
    "#standard deviation can provide insights into the variability or spread of prices.\n",
    "# quarile values can be useful in identifying the price ranges in which most products fall."
   ]
  },
  {
   "cell_type": "code",
   "execution_count": 26,
   "id": "264dd816",
   "metadata": {},
   "outputs": [
    {
     "data": {
      "text/plain": [
       "count    115609.000000\n",
       "mean        172.387379\n",
       "std         265.873969\n",
       "min           0.000000\n",
       "25%          60.870000\n",
       "50%         108.050000\n",
       "75%         189.480000\n",
       "max       13664.080000\n",
       "Name: payment_value, dtype: float64"
      ]
     },
     "execution_count": 26,
     "metadata": {},
     "output_type": "execute_result"
    }
   ],
   "source": [
    "# Summary statistics for the 'payment_value' variable\n",
    "df['payment_value'].describe()"
   ]
  },
  {
   "cell_type": "code",
   "execution_count": 27,
   "id": "f48c1552",
   "metadata": {},
   "outputs": [
    {
     "data": {
      "text/plain": [
       "count          115609\n",
       "unique              4\n",
       "top       credit_card\n",
       "freq            85278\n",
       "Name: payment_type, dtype: object"
      ]
     },
     "execution_count": 27,
     "metadata": {},
     "output_type": "execute_result"
    }
   ],
   "source": [
    "df['payment_type'].describe()"
   ]
  },
  {
   "cell_type": "code",
   "execution_count": 28,
   "id": "9d30cd43",
   "metadata": {},
   "outputs": [
    {
     "data": {
      "text/plain": [
       "credit_card    85278\n",
       "boleto         22510\n",
       "voucher         6162\n",
       "debit_card      1659\n",
       "Name: payment_type, dtype: int64"
      ]
     },
     "execution_count": 28,
     "metadata": {},
     "output_type": "execute_result"
    }
   ],
   "source": [
    "#payment type \n",
    "payment_type_count = df['payment_type'].value_counts()\n",
    "payment_type_count "
   ]
  },
  {
   "cell_type": "code",
   "execution_count": 29,
   "id": "8d2abf54",
   "metadata": {},
   "outputs": [
    {
     "data": {
      "image/png": "[encoded data removed]",
      "text/plain": [
       "<Figure size 864x432 with 1 Axes>"
      ]
     },
     "metadata": {},
     "output_type": "display_data"
    }
   ],
   "source": [
    "plt.figure(figsize=(12,6))\n",
    "plt.pie(x=payment_type_count, labels=payment_type_count.index, autopct='%1.1f%%')\n",
    "plt.title('Distribution of  payment type')\n",
    "plt.show() "
   ]
  },
  {
   "cell_type": "markdown",
   "id": "0d85f7cb",
   "metadata": {},
   "source": [
    "How many orders we have for each status?"
   ]
  },
  {
   "cell_type": "code",
   "execution_count": 30,
   "id": "1911d63d",
   "metadata": {},
   "outputs": [
    {
     "name": "stdout",
     "output_type": "stream",
     "text": [
      "delivered      113210\n",
      "shipped          1138\n",
      "canceled          536\n",
      "invoiced          358\n",
      "processing        357\n",
      "unavailable         7\n",
      "approved            3\n",
      "Name: order_status, dtype: int64\n"
     ]
    }
   ],
   "source": [
    "# Count the number of orders for each status\n",
    "order_status_counts =df['order_status'].value_counts()\n",
    "\n",
    "# Print the result\n",
    "print(order_status_counts)"
   ]
  },
  {
   "cell_type": "code",
   "execution_count": 31,
   "id": "1b5d8853",
   "metadata": {},
   "outputs": [],
   "source": [
    " # we can see the highest amount of orders are delivered "
   ]
  },
  {
   "cell_type": "markdown",
   "id": "868a2052",
   "metadata": {},
   "source": [
    "# Bivariate Analysis "
   ]
  },
  {
   "cell_type": "code",
   "execution_count": 32,
   "id": "30584141",
   "metadata": {},
   "outputs": [
    {
     "data": {
      "image/png": "[encoded data removed]",
      "text/plain": [
       "<Figure size 720x432 with 1 Axes>"
      ]
     },
     "metadata": {},
     "output_type": "display_data"
    }
   ],
   "source": [
    "# Plot a scatterplot between price and review_score_rating\n",
    "sns.set_style(\"whitegrid\")\n",
    "plt.figure(figsize=(10,6))\n",
    "plt.title('Distribution of Price and Review Score', fontsize=16)\n",
    "sns.scatterplot(data=df, x='price', y='review_score', color='blue')\n",
    "plt.xlabel('Price', fontsize=14)\n",
    "plt.ylabel('Review Score', fontsize=14)\n",
    "plt.show()"
   ]
  },
  {
   "cell_type": "code",
   "execution_count": null,
   "id": "a4e78725",
   "metadata": {},
   "outputs": [],
   "source": [
    " "
   ]
  },
  {
   "cell_type": "markdown",
   "id": "6bfac919",
   "metadata": {},
   "source": [
    " By analyzing this plot, we can see if there is any correlation between the price of the product and the review score.\n",
    " if there is a cluster of data points with high review scores and high prices, it may indicate that customers are willing to pay more for products that meet their expectations. Similarly, if there is a cluster of data points with low review scores and low prices, it may indicate that customers have low expectations for cheaper products."
   ]
  },
  {
   "cell_type": "raw",
   "id": "564fe130",
   "metadata": {},
   "source": [
    "Checking the distribution of customer satisfaction by payment type.\n",
    "(Boleto is an official form of payment regulated by the Central Bank of Brazil that uses vouchers to pay.)\n",
    "insight :\n",
    "\n",
    "1)  Which payment types are associated with higher levels of customer satisfaction ?\n",
    "\n",
    "2) How to improve payment  processes "
   ]
  },
  {
   "cell_type": "code",
   "execution_count": 33,
   "id": "138e1871",
   "metadata": {},
   "outputs": [],
   "source": [
    "# Create a pivot table to show the average payment value by payment type and review score\n",
    "pivot_df = pd.pivot_table(df, index='payment_type', columns='review_score', values='payment_value', aggfunc='mean')"
   ]
  },
  {
   "cell_type": "code",
   "execution_count": 34,
   "id": "a3a24d80",
   "metadata": {},
   "outputs": [
    {
     "data": {
      "text/html": [
       "<div>\n",
       "<style scoped>\n",
       "    .dataframe tbody tr th:only-of-type {\n",
       "        vertical-align: middle;\n",
       "    }\n",
       "\n",
       "    .dataframe tbody tr th {\n",
       "        vertical-align: top;\n",
       "    }\n",
       "\n",
       "    .dataframe thead th {\n",
       "        text-align: right;\n",
       "    }\n",
       "</style>\n",
       "<table border=\"1\" class=\"dataframe\">\n",
       "  <thead>\n",
       "    <tr style=\"text-align: right;\">\n",
       "      <th>review_score</th>\n",
       "      <th>1</th>\n",
       "      <th>2</th>\n",
       "      <th>3</th>\n",
       "      <th>4</th>\n",
       "      <th>5</th>\n",
       "    </tr>\n",
       "    <tr>\n",
       "      <th>payment_type</th>\n",
       "      <th></th>\n",
       "      <th></th>\n",
       "      <th></th>\n",
       "      <th></th>\n",
       "      <th></th>\n",
       "    </tr>\n",
       "  </thead>\n",
       "  <tbody>\n",
       "    <tr>\n",
       "      <th>boleto</th>\n",
       "      <td>279.468277</td>\n",
       "      <td>202.337417</td>\n",
       "      <td>163.204478</td>\n",
       "      <td>167.626368</td>\n",
       "      <td>157.804216</td>\n",
       "    </tr>\n",
       "    <tr>\n",
       "      <th>credit_card</th>\n",
       "      <td>234.487044</td>\n",
       "      <td>199.604674</td>\n",
       "      <td>177.953305</td>\n",
       "      <td>170.030707</td>\n",
       "      <td>169.275782</td>\n",
       "    </tr>\n",
       "    <tr>\n",
       "      <th>debit_card</th>\n",
       "      <td>154.441034</td>\n",
       "      <td>142.898654</td>\n",
       "      <td>145.820163</td>\n",
       "      <td>155.762633</td>\n",
       "      <td>149.059970</td>\n",
       "    </tr>\n",
       "    <tr>\n",
       "      <th>voucher</th>\n",
       "      <td>76.992644</td>\n",
       "      <td>70.351004</td>\n",
       "      <td>62.374554</td>\n",
       "      <td>62.808089</td>\n",
       "      <td>61.732748</td>\n",
       "    </tr>\n",
       "  </tbody>\n",
       "</table>\n",
       "</div>"
      ],
      "text/plain": [
       "review_score           1           2           3           4           5\n",
       "payment_type                                                            \n",
       "boleto        279.468277  202.337417  163.204478  167.626368  157.804216\n",
       "credit_card   234.487044  199.604674  177.953305  170.030707  169.275782\n",
       "debit_card    154.441034  142.898654  145.820163  155.762633  149.059970\n",
       "voucher        76.992644   70.351004   62.374554   62.808089   61.732748"
      ]
     },
     "execution_count": 34,
     "metadata": {},
     "output_type": "execute_result"
    }
   ],
   "source": [
    "pivot_df"
   ]
  },
  {
   "cell_type": "code",
   "execution_count": null,
   "id": "2a5df4ce",
   "metadata": {},
   "outputs": [],
   "source": [
    " "
   ]
  },
  {
   "cell_type": "code",
   "execution_count": 35,
   "id": "d72ed8c8",
   "metadata": {},
   "outputs": [],
   "source": [
    " # Group the data by payment type and review score rating\n",
    "grouped_data = df.groupby(['payment_type', 'review_score']).size().reset_index(name='count')"
   ]
  },
  {
   "cell_type": "code",
   "execution_count": 36,
   "id": "ca7f040e",
   "metadata": {},
   "outputs": [
    {
     "data": {
      "text/html": [
       "<div>\n",
       "<style scoped>\n",
       "    .dataframe tbody tr th:only-of-type {\n",
       "        vertical-align: middle;\n",
       "    }\n",
       "\n",
       "    .dataframe tbody tr th {\n",
       "        vertical-align: top;\n",
       "    }\n",
       "\n",
       "    .dataframe thead th {\n",
       "        text-align: right;\n",
       "    }\n",
       "</style>\n",
       "<table border=\"1\" class=\"dataframe\">\n",
       "  <thead>\n",
       "    <tr style=\"text-align: right;\">\n",
       "      <th></th>\n",
       "      <th>payment_type</th>\n",
       "      <th>review_score</th>\n",
       "      <th>count</th>\n",
       "    </tr>\n",
       "  </thead>\n",
       "  <tbody>\n",
       "    <tr>\n",
       "      <th>0</th>\n",
       "      <td>boleto</td>\n",
       "      <td>1</td>\n",
       "      <td>2827</td>\n",
       "    </tr>\n",
       "    <tr>\n",
       "      <th>1</th>\n",
       "      <td>boleto</td>\n",
       "      <td>2</td>\n",
       "      <td>755</td>\n",
       "    </tr>\n",
       "    <tr>\n",
       "      <th>2</th>\n",
       "      <td>boleto</td>\n",
       "      <td>3</td>\n",
       "      <td>1963</td>\n",
       "    </tr>\n",
       "    <tr>\n",
       "      <th>3</th>\n",
       "      <td>boleto</td>\n",
       "      <td>4</td>\n",
       "      <td>4358</td>\n",
       "    </tr>\n",
       "    <tr>\n",
       "      <th>4</th>\n",
       "      <td>boleto</td>\n",
       "      <td>5</td>\n",
       "      <td>12607</td>\n",
       "    </tr>\n",
       "    <tr>\n",
       "      <th>5</th>\n",
       "      <td>credit_card</td>\n",
       "      <td>1</td>\n",
       "      <td>10766</td>\n",
       "    </tr>\n",
       "    <tr>\n",
       "      <th>6</th>\n",
       "      <td>credit_card</td>\n",
       "      <td>2</td>\n",
       "      <td>2944</td>\n",
       "    </tr>\n",
       "    <tr>\n",
       "      <th>7</th>\n",
       "      <td>credit_card</td>\n",
       "      <td>3</td>\n",
       "      <td>7105</td>\n",
       "    </tr>\n",
       "    <tr>\n",
       "      <th>8</th>\n",
       "      <td>credit_card</td>\n",
       "      <td>4</td>\n",
       "      <td>16152</td>\n",
       "    </tr>\n",
       "    <tr>\n",
       "      <th>9</th>\n",
       "      <td>credit_card</td>\n",
       "      <td>5</td>\n",
       "      <td>48311</td>\n",
       "    </tr>\n",
       "    <tr>\n",
       "      <th>10</th>\n",
       "      <td>debit_card</td>\n",
       "      <td>1</td>\n",
       "      <td>174</td>\n",
       "    </tr>\n",
       "    <tr>\n",
       "      <th>11</th>\n",
       "      <td>debit_card</td>\n",
       "      <td>2</td>\n",
       "      <td>52</td>\n",
       "    </tr>\n",
       "    <tr>\n",
       "      <th>12</th>\n",
       "      <td>debit_card</td>\n",
       "      <td>3</td>\n",
       "      <td>123</td>\n",
       "    </tr>\n",
       "    <tr>\n",
       "      <th>13</th>\n",
       "      <td>debit_card</td>\n",
       "      <td>4</td>\n",
       "      <td>300</td>\n",
       "    </tr>\n",
       "    <tr>\n",
       "      <th>14</th>\n",
       "      <td>debit_card</td>\n",
       "      <td>5</td>\n",
       "      <td>1010</td>\n",
       "    </tr>\n",
       "    <tr>\n",
       "      <th>15</th>\n",
       "      <td>voucher</td>\n",
       "      <td>1</td>\n",
       "      <td>779</td>\n",
       "    </tr>\n",
       "    <tr>\n",
       "      <th>16</th>\n",
       "      <td>voucher</td>\n",
       "      <td>2</td>\n",
       "      <td>269</td>\n",
       "    </tr>\n",
       "    <tr>\n",
       "      <th>17</th>\n",
       "      <td>voucher</td>\n",
       "      <td>3</td>\n",
       "      <td>527</td>\n",
       "    </tr>\n",
       "    <tr>\n",
       "      <th>18</th>\n",
       "      <td>voucher</td>\n",
       "      <td>4</td>\n",
       "      <td>1141</td>\n",
       "    </tr>\n",
       "    <tr>\n",
       "      <th>19</th>\n",
       "      <td>voucher</td>\n",
       "      <td>5</td>\n",
       "      <td>3446</td>\n",
       "    </tr>\n",
       "  </tbody>\n",
       "</table>\n",
       "</div>"
      ],
      "text/plain": [
       "   payment_type  review_score  count\n",
       "0        boleto             1   2827\n",
       "1        boleto             2    755\n",
       "2        boleto             3   1963\n",
       "3        boleto             4   4358\n",
       "4        boleto             5  12607\n",
       "5   credit_card             1  10766\n",
       "6   credit_card             2   2944\n",
       "7   credit_card             3   7105\n",
       "8   credit_card             4  16152\n",
       "9   credit_card             5  48311\n",
       "10   debit_card             1    174\n",
       "11   debit_card             2     52\n",
       "12   debit_card             3    123\n",
       "13   debit_card             4    300\n",
       "14   debit_card             5   1010\n",
       "15      voucher             1    779\n",
       "16      voucher             2    269\n",
       "17      voucher             3    527\n",
       "18      voucher             4   1141\n",
       "19      voucher             5   3446"
      ]
     },
     "execution_count": 36,
     "metadata": {},
     "output_type": "execute_result"
    }
   ],
   "source": [
    "grouped_data"
   ]
  },
  {
   "cell_type": "code",
   "execution_count": 37,
   "id": "df29a42b",
   "metadata": {},
   "outputs": [],
   "source": [
    "# Pivot the data to create a heatmap\n",
    "pivoted_data = grouped_data.pivot(index='payment_type', columns='review_score', values='count')"
   ]
  },
  {
   "cell_type": "code",
   "execution_count": null,
   "id": "4f0113d7",
   "metadata": {},
   "outputs": [],
   "source": [
    " "
   ]
  },
  {
   "cell_type": "code",
   "execution_count": 38,
   "id": "81cf7a50",
   "metadata": {},
   "outputs": [],
   "source": [
    "# Normalize the data to percentages\n",
    "pivoted_data = pivoted_data.div(pivoted_data.sum(axis=1), axis=0) * 100"
   ]
  },
  {
   "cell_type": "code",
   "execution_count": null,
   "id": "52cdd239",
   "metadata": {},
   "outputs": [],
   "source": []
  },
  {
   "cell_type": "code",
   "execution_count": null,
   "id": "1b3242c7",
   "metadata": {},
   "outputs": [],
   "source": []
  },
  {
   "cell_type": "code",
   "execution_count": 39,
   "id": "4c59ed11",
   "metadata": {},
   "outputs": [
    {
     "data": {
      "image/png": "[encoded data removed]",
      "text/plain": [
       "<Figure size 864x432 with 2 Axes>"
      ]
     },
     "metadata": {},
     "output_type": "display_data"
    }
   ],
   "source": [
    "# Create a heatmap\n",
    "plt.figure(figsize=(12,6))\n",
    "sns.heatmap(pivoted_data, annot=True, fmt='.1f', cmap='coolwarm')\n",
    "# Add title and axis labels\n",
    "plt.title('Distribution of Customer Satisfaction by Payment Type for Each Review Score')\n",
    "plt.xlabel('Review Score Rating')\n",
    "plt.ylabel('Payment Type')\n",
    "plt.show()"
   ]
  },
  {
   "cell_type": "code",
   "execution_count": null,
   "id": "4f35baab",
   "metadata": {},
   "outputs": [],
   "source": []
  },
  {
   "cell_type": "code",
   "execution_count": null,
   "id": "ed4a811c",
   "metadata": {},
   "outputs": [],
   "source": [
    " "
   ]
  },
  {
   "cell_type": "code",
   "execution_count": null,
   "id": "b96f5a5e",
   "metadata": {},
   "outputs": [],
   "source": [
    " "
   ]
  },
  {
   "cell_type": "code",
   "execution_count": 40,
   "id": "d9b912b3",
   "metadata": {},
   "outputs": [
    {
     "data": {
      "text/plain": [
       "<AxesSubplot:xlabel='payment_type', ylabel='review_score'>"
      ]
     },
     "execution_count": 40,
     "metadata": {},
     "output_type": "execute_result"
    },
    {
     "data": {
      "image/png": "[encoded data removed]",
      "text/plain": [
       "<Figure size 432x288 with 1 Axes>"
      ]
     },
     "metadata": {},
     "output_type": "display_data"
    }
   ],
   "source": [
    "# Create a bar chart of payment types vs. review scores\n",
    "sns.barplot(x='payment_type', y='review_score', data=df)\n"
   ]
  },
  {
   "cell_type": "markdown",
   "id": "30e10951",
   "metadata": {},
   "source": [
    "Check the distribution of customer satisfaction by month :\n",
    "\n",
    "1)  how customer satisfaction levels vary over time\n",
    "\n",
    "\n",
    "2) how seasonal changes or specific events affect customer satisfaction levels."
   ]
  },
  {
   "cell_type": "code",
   "execution_count": null,
   "id": "573e5f58",
   "metadata": {},
   "outputs": [],
   "source": []
  },
  {
   "cell_type": "code",
   "execution_count": 41,
   "id": "cc446aa2",
   "metadata": {},
   "outputs": [],
   "source": [
    "# Group the data by month and calculate the mean satisfaction score\n",
    "# Convert the order date to a datetime object and extract the month\n",
    "df['order_month'] = pd.to_datetime(df['order_purchase_timestamp']).dt.strftime('%Y-%m')\n",
    "satisfaction_by_month = df.groupby('order_month')['review_score'].mean().reset_index()"
   ]
  },
  {
   "cell_type": "code",
   "execution_count": null,
   "id": "dc813b7a",
   "metadata": {},
   "outputs": [],
   "source": [
    " "
   ]
  },
  {
   "cell_type": "code",
   "execution_count": null,
   "id": "e02e3fae",
   "metadata": {},
   "outputs": [],
   "source": []
  },
  {
   "cell_type": "code",
   "execution_count": 42,
   "id": "aa22758c",
   "metadata": {},
   "outputs": [
    {
     "data": {
      "text/html": [
       "<div>\n",
       "<style scoped>\n",
       "    .dataframe tbody tr th:only-of-type {\n",
       "        vertical-align: middle;\n",
       "    }\n",
       "\n",
       "    .dataframe tbody tr th {\n",
       "        vertical-align: top;\n",
       "    }\n",
       "\n",
       "    .dataframe thead th {\n",
       "        text-align: right;\n",
       "    }\n",
       "</style>\n",
       "<table border=\"1\" class=\"dataframe\">\n",
       "  <thead>\n",
       "    <tr style=\"text-align: right;\">\n",
       "      <th></th>\n",
       "      <th>order_month</th>\n",
       "      <th>review_score</th>\n",
       "    </tr>\n",
       "  </thead>\n",
       "  <tbody>\n",
       "    <tr>\n",
       "      <th>0</th>\n",
       "      <td>2016-02</td>\n",
       "      <td>1.000000</td>\n",
       "    </tr>\n",
       "    <tr>\n",
       "      <th>1</th>\n",
       "      <td>2016-03</td>\n",
       "      <td>3.000000</td>\n",
       "    </tr>\n",
       "    <tr>\n",
       "      <th>2</th>\n",
       "      <td>2016-04</td>\n",
       "      <td>3.779221</td>\n",
       "    </tr>\n",
       "    <tr>\n",
       "      <th>3</th>\n",
       "      <td>2016-05</td>\n",
       "      <td>3.457627</td>\n",
       "    </tr>\n",
       "    <tr>\n",
       "      <th>4</th>\n",
       "      <td>2016-06</td>\n",
       "      <td>3.431034</td>\n",
       "    </tr>\n",
       "    <tr>\n",
       "      <th>5</th>\n",
       "      <td>2016-07</td>\n",
       "      <td>3.420000</td>\n",
       "    </tr>\n",
       "    <tr>\n",
       "      <th>6</th>\n",
       "      <td>2016-08</td>\n",
       "      <td>3.955556</td>\n",
       "    </tr>\n",
       "    <tr>\n",
       "      <th>7</th>\n",
       "      <td>2016-09</td>\n",
       "      <td>3.305556</td>\n",
       "    </tr>\n",
       "    <tr>\n",
       "      <th>8</th>\n",
       "      <td>2016-10</td>\n",
       "      <td>3.934783</td>\n",
       "    </tr>\n",
       "    <tr>\n",
       "      <th>9</th>\n",
       "      <td>2016-12</td>\n",
       "      <td>5.000000</td>\n",
       "    </tr>\n",
       "    <tr>\n",
       "      <th>10</th>\n",
       "      <td>2017-01</td>\n",
       "      <td>4.048273</td>\n",
       "    </tr>\n",
       "    <tr>\n",
       "      <th>11</th>\n",
       "      <td>2017-02</td>\n",
       "      <td>4.036249</td>\n",
       "    </tr>\n",
       "    <tr>\n",
       "      <th>12</th>\n",
       "      <td>2017-03</td>\n",
       "      <td>4.059312</td>\n",
       "    </tr>\n",
       "    <tr>\n",
       "      <th>13</th>\n",
       "      <td>2017-04</td>\n",
       "      <td>4.036982</td>\n",
       "    </tr>\n",
       "    <tr>\n",
       "      <th>14</th>\n",
       "      <td>2017-05</td>\n",
       "      <td>4.097736</td>\n",
       "    </tr>\n",
       "    <tr>\n",
       "      <th>15</th>\n",
       "      <td>2017-06</td>\n",
       "      <td>4.110383</td>\n",
       "    </tr>\n",
       "    <tr>\n",
       "      <th>16</th>\n",
       "      <td>2017-07</td>\n",
       "      <td>4.112197</td>\n",
       "    </tr>\n",
       "    <tr>\n",
       "      <th>17</th>\n",
       "      <td>2017-08</td>\n",
       "      <td>4.199405</td>\n",
       "    </tr>\n",
       "    <tr>\n",
       "      <th>18</th>\n",
       "      <td>2017-09</td>\n",
       "      <td>4.113475</td>\n",
       "    </tr>\n",
       "    <tr>\n",
       "      <th>19</th>\n",
       "      <td>2017-10</td>\n",
       "      <td>4.083035</td>\n",
       "    </tr>\n",
       "    <tr>\n",
       "      <th>20</th>\n",
       "      <td>2017-11</td>\n",
       "      <td>3.857935</td>\n",
       "    </tr>\n",
       "    <tr>\n",
       "      <th>21</th>\n",
       "      <td>2017-12</td>\n",
       "      <td>4.016885</td>\n",
       "    </tr>\n",
       "    <tr>\n",
       "      <th>22</th>\n",
       "      <td>2018-01</td>\n",
       "      <td>3.941890</td>\n",
       "    </tr>\n",
       "    <tr>\n",
       "      <th>23</th>\n",
       "      <td>2018-02</td>\n",
       "      <td>3.768441</td>\n",
       "    </tr>\n",
       "    <tr>\n",
       "      <th>24</th>\n",
       "      <td>2018-03</td>\n",
       "      <td>3.898049</td>\n",
       "    </tr>\n",
       "    <tr>\n",
       "      <th>25</th>\n",
       "      <td>2018-04</td>\n",
       "      <td>4.095524</td>\n",
       "    </tr>\n",
       "    <tr>\n",
       "      <th>26</th>\n",
       "      <td>2018-05</td>\n",
       "      <td>4.069442</td>\n",
       "    </tr>\n",
       "    <tr>\n",
       "      <th>27</th>\n",
       "      <td>2018-06</td>\n",
       "      <td>4.143098</td>\n",
       "    </tr>\n",
       "    <tr>\n",
       "      <th>28</th>\n",
       "      <td>2018-07</td>\n",
       "      <td>4.157051</td>\n",
       "    </tr>\n",
       "    <tr>\n",
       "      <th>29</th>\n",
       "      <td>2018-08</td>\n",
       "      <td>4.193834</td>\n",
       "    </tr>\n",
       "    <tr>\n",
       "      <th>30</th>\n",
       "      <td>2018-09</td>\n",
       "      <td>4.097734</td>\n",
       "    </tr>\n",
       "    <tr>\n",
       "      <th>31</th>\n",
       "      <td>2018-10</td>\n",
       "      <td>3.953061</td>\n",
       "    </tr>\n",
       "    <tr>\n",
       "      <th>32</th>\n",
       "      <td>2018-11</td>\n",
       "      <td>3.980126</td>\n",
       "    </tr>\n",
       "    <tr>\n",
       "      <th>33</th>\n",
       "      <td>2018-12</td>\n",
       "      <td>3.922628</td>\n",
       "    </tr>\n",
       "  </tbody>\n",
       "</table>\n",
       "</div>"
      ],
      "text/plain": [
       "   order_month  review_score\n",
       "0      2016-02      1.000000\n",
       "1      2016-03      3.000000\n",
       "2      2016-04      3.779221\n",
       "3      2016-05      3.457627\n",
       "4      2016-06      3.431034\n",
       "5      2016-07      3.420000\n",
       "6      2016-08      3.955556\n",
       "7      2016-09      3.305556\n",
       "8      2016-10      3.934783\n",
       "9      2016-12      5.000000\n",
       "10     2017-01      4.048273\n",
       "11     2017-02      4.036249\n",
       "12     2017-03      4.059312\n",
       "13     2017-04      4.036982\n",
       "14     2017-05      4.097736\n",
       "15     2017-06      4.110383\n",
       "16     2017-07      4.112197\n",
       "17     2017-08      4.199405\n",
       "18     2017-09      4.113475\n",
       "19     2017-10      4.083035\n",
       "20     2017-11      3.857935\n",
       "21     2017-12      4.016885\n",
       "22     2018-01      3.941890\n",
       "23     2018-02      3.768441\n",
       "24     2018-03      3.898049\n",
       "25     2018-04      4.095524\n",
       "26     2018-05      4.069442\n",
       "27     2018-06      4.143098\n",
       "28     2018-07      4.157051\n",
       "29     2018-08      4.193834\n",
       "30     2018-09      4.097734\n",
       "31     2018-10      3.953061\n",
       "32     2018-11      3.980126\n",
       "33     2018-12      3.922628"
      ]
     },
     "execution_count": 42,
     "metadata": {},
     "output_type": "execute_result"
    }
   ],
   "source": [
    "satisfaction_by_month"
   ]
  },
  {
   "cell_type": "code",
   "execution_count": null,
   "id": "3ea9010a",
   "metadata": {},
   "outputs": [],
   "source": [
    " "
   ]
  },
  {
   "cell_type": "code",
   "execution_count": 43,
   "id": "a7fd8ff8",
   "metadata": {},
   "outputs": [
    {
     "data": {
      "image/png": "[encoded data removed]",
      "text/plain": [
       "<Figure size 864x432 with 1 Axes>"
      ]
     },
     "metadata": {},
     "output_type": "display_data"
    }
   ],
   "source": [
    " # Visualize the distribution using a line plot\n",
    "sns.set_style(\"whitegrid\")\n",
    "plt.figure(figsize=(12,6))\n",
    "plt.title('Distribution of Customer Satisfaction by Month', fontsize=16)\n",
    "sns.lineplot(data=satisfaction_by_month, x='order_month', y='review_score', color='blue')\n",
    "plt.xlabel('Month', fontsize=14)\n",
    "plt.ylabel('Average Satisfaction Score', fontsize=14)\n",
    "plt.xticks(rotation=45)\n",
    "plt.show()"
   ]
  },
  {
   "cell_type": "markdown",
   "id": "4c84d11a",
   "metadata": {},
   "source": [
    " Is there any growing trend on brazilian e-commerce?"
   ]
  },
  {
   "cell_type": "code",
   "execution_count": 44,
   "id": "9a158c88",
   "metadata": {},
   "outputs": [],
   "source": [
    " # Convert the order_purchase_timestamp column to datetime format\n",
    " \n",
    "df['order_month'] = pd.to_datetime(df['order_purchase_timestamp']).dt.strftime('%Y-%m')\n",
    "\n",
    "# Group the data by year_month and count the number of orders\n",
    "monthly_order_counts = df.groupby('order_month')['order_id'].count().reset_index()"
   ]
  },
  {
   "cell_type": "code",
   "execution_count": 45,
   "id": "0de43fcf",
   "metadata": {},
   "outputs": [
    {
     "data": {
      "image/png": "[encoded data removed]",
      "text/plain": [
       "<Figure size 864x432 with 1 Axes>"
      ]
     },
     "metadata": {},
     "output_type": "display_data"
    }
   ],
   "source": [
    "  # Visualize the distribution using a line plot\n",
    "sns.set_style(\"whitegrid\")\n",
    "plt.figure(figsize=(12,6))\n",
    "plt.title('Monthly order volume ', fontsize=16)\n",
    "sns.lineplot(data=monthly_order_counts, x='order_month', y='order_id', color='blue')\n",
    "plt.xlabel('Month', fontsize=14)\n",
    "plt.ylabel(' Order Volume', fontsize=14)\n",
    "plt.xticks(rotation=45)\n",
    "plt.show()"
   ]
  },
  {
   "cell_type": "code",
   "execution_count": 46,
   "id": "1887a18a",
   "metadata": {},
   "outputs": [
    {
     "data": {
      "text/plain": [
       "0         11\n",
       "1         11\n",
       "2          3\n",
       "3          7\n",
       "4         10\n",
       "          ..\n",
       "115604     7\n",
       "115605     7\n",
       "115606     8\n",
       "115607     1\n",
       "115608     9\n",
       "Name: order_month, Length: 115609, dtype: int64"
      ]
     },
     "execution_count": 46,
     "metadata": {},
     "output_type": "execute_result"
    }
   ],
   "source": [
    "df['order_month'] = pd.to_datetime(df['order_purchase_timestamp']).dt.month\n",
    "df['order_month']"
   ]
  },
  {
   "cell_type": "markdown",
   "id": "6e0436b1",
   "metadata": {},
   "source": [
    "On what day of week brazilians customers tend to do online purchasing?"
   ]
  },
  {
   "cell_type": "code",
   "execution_count": 47,
   "id": "825d0292",
   "metadata": {},
   "outputs": [],
   "source": [
    "# Create a new column with the day of the week of each order\n",
    "df['order_purchase_timestamp'] = pd.to_datetime(df['order_purchase_timestamp'])\n",
    "\n",
    "df['order_day_of_week'] =df['order_purchase_timestamp'].dt.dayofweek+1 # Monday is 0, so add 1 to get 1-based indexing\n",
    "\n",
    "# Group the data by order_day_of_week and count the number of orders\n",
    "day_of_week_order_counts =df.groupby('order_day_of_week')['order_id'].count().reset_index()"
   ]
  },
  {
   "cell_type": "code",
   "execution_count": 48,
   "id": "3519034f",
   "metadata": {},
   "outputs": [
    {
     "data": {
      "text/plain": [
       "Text(0.5, 1.0, 'Order Volume by Day of Week')"
      ]
     },
     "execution_count": 48,
     "metadata": {},
     "output_type": "execute_result"
    },
    {
     "data": {
      "image/png": "[encoded data removed]",
      "text/plain": [
       "<Figure size 432x288 with 1 Axes>"
      ]
     },
     "metadata": {},
     "output_type": "display_data"
    }
   ],
   "source": [
    "# Create a bar chart of the number of orders by day of the week\n",
    "sns.barplot(x='order_day_of_week', y='order_id', data=day_of_week_order_counts)\n",
    "plt.xlabel('Day of Week')\n",
    "plt.ylabel('Order Volume')\n",
    "plt.title('Order Volume by Day of Week')"
   ]
  },
  {
   "cell_type": "markdown",
   "id": "38225761",
   "metadata": {},
   "source": [
    "What time brazilians customers tend do buy (Dawn, Morning, Afternoon or Night)?\n"
   ]
  },
  {
   "cell_type": "code",
   "execution_count": 49,
   "id": "10062dd3",
   "metadata": {},
   "outputs": [],
   "source": [
    "# Create a new column with the hour of the day of each order\n",
    "df['order_hour_of_day'] =df['order_purchase_timestamp'].dt.hour\n",
    "\n",
    "# Group the data by order_hour_of_day and count the number of orders\n",
    "hour_of_day_order_counts =df.groupby('order_hour_of_day')['order_id'].count().reset_index()"
   ]
  },
  {
   "cell_type": "code",
   "execution_count": 50,
   "id": "d552db5a",
   "metadata": {},
   "outputs": [
    {
     "data": {
      "text/plain": [
       "Text(0.5, 1.0, 'Order Volume by Hour of Day')"
      ]
     },
     "execution_count": 50,
     "metadata": {},
     "output_type": "execute_result"
    },
    {
     "data": {
      "image/png": "[encoded data removed]",
      "text/plain": [
       "<Figure size 432x288 with 1 Axes>"
      ]
     },
     "metadata": {},
     "output_type": "display_data"
    }
   ],
   "source": [
    "# Create a line chart of the number of orders by hour of the day\n",
    "sns.lineplot(x='order_hour_of_day', y='order_id', data=hour_of_day_order_counts)\n",
    "plt.xlabel('Hour of Day')\n",
    "plt.ylabel('Order Volume')\n",
    "plt.title('Order Volume by Hour of Day')\n"
   ]
  },
  {
   "cell_type": "raw",
   "id": "0a80e115",
   "metadata": {},
   "source": [
    "Insights :\n",
    "E-commerce on Brazil really has a growing and falling trend along the time . We can see some seasonality with peaks at specific months, but in general we can see clear that customers are more prone to buy things online than before.\n",
    "Monday are the prefered day for brazilian's customers and they tend to buy more at afternoons"
   ]
  },
  {
   "cell_type": "code",
   "execution_count": null,
   "id": "c564c459",
   "metadata": {},
   "outputs": [],
   "source": [
    " "
   ]
  },
  {
   "cell_type": "markdown",
   "id": "6088cb17",
   "metadata": {},
   "source": [
    " Did the sale grow up over time?"
   ]
  },
  {
   "cell_type": "code",
   "execution_count": 51,
   "id": "54e4cbd8",
   "metadata": {},
   "outputs": [],
   "source": [
    "# Group the data by year and month and calculate the total sales for each period\n",
    "sales_by_month = df.groupby('order_month')['payment_value'].sum().reset_index()"
   ]
  },
  {
   "cell_type": "code",
   "execution_count": 52,
   "id": "1ee99e8c",
   "metadata": {},
   "outputs": [
    {
     "data": {
      "text/html": [
       "<div>\n",
       "<style scoped>\n",
       "    .dataframe tbody tr th:only-of-type {\n",
       "        vertical-align: middle;\n",
       "    }\n",
       "\n",
       "    .dataframe tbody tr th {\n",
       "        vertical-align: top;\n",
       "    }\n",
       "\n",
       "    .dataframe thead th {\n",
       "        text-align: right;\n",
       "    }\n",
       "</style>\n",
       "<table border=\"1\" class=\"dataframe\">\n",
       "  <thead>\n",
       "    <tr style=\"text-align: right;\">\n",
       "      <th></th>\n",
       "      <th>order_month</th>\n",
       "      <th>payment_value</th>\n",
       "    </tr>\n",
       "  </thead>\n",
       "  <tbody>\n",
       "    <tr>\n",
       "      <th>0</th>\n",
       "      <td>1</td>\n",
       "      <td>1677348.98</td>\n",
       "    </tr>\n",
       "    <tr>\n",
       "      <th>1</th>\n",
       "      <td>2</td>\n",
       "      <td>1622176.95</td>\n",
       "    </tr>\n",
       "    <tr>\n",
       "      <th>2</th>\n",
       "      <td>3</td>\n",
       "      <td>1838824.04</td>\n",
       "    </tr>\n",
       "    <tr>\n",
       "      <th>3</th>\n",
       "      <td>4</td>\n",
       "      <td>1846567.08</td>\n",
       "    </tr>\n",
       "    <tr>\n",
       "      <th>4</th>\n",
       "      <td>5</td>\n",
       "      <td>1951925.48</td>\n",
       "    </tr>\n",
       "    <tr>\n",
       "      <th>5</th>\n",
       "      <td>6</td>\n",
       "      <td>1757895.85</td>\n",
       "    </tr>\n",
       "    <tr>\n",
       "      <th>6</th>\n",
       "      <td>7</td>\n",
       "      <td>2078563.71</td>\n",
       "    </tr>\n",
       "    <tr>\n",
       "      <th>7</th>\n",
       "      <td>8</td>\n",
       "      <td>1653541.01</td>\n",
       "    </tr>\n",
       "    <tr>\n",
       "      <th>8</th>\n",
       "      <td>9</td>\n",
       "      <td>1279777.63</td>\n",
       "    </tr>\n",
       "    <tr>\n",
       "      <th>9</th>\n",
       "      <td>10</td>\n",
       "      <td>1244821.42</td>\n",
       "    </tr>\n",
       "    <tr>\n",
       "      <th>10</th>\n",
       "      <td>11</td>\n",
       "      <td>1838038.21</td>\n",
       "    </tr>\n",
       "    <tr>\n",
       "      <th>11</th>\n",
       "      <td>12</td>\n",
       "      <td>1140052.14</td>\n",
       "    </tr>\n",
       "  </tbody>\n",
       "</table>\n",
       "</div>"
      ],
      "text/plain": [
       "    order_month  payment_value\n",
       "0             1     1677348.98\n",
       "1             2     1622176.95\n",
       "2             3     1838824.04\n",
       "3             4     1846567.08\n",
       "4             5     1951925.48\n",
       "5             6     1757895.85\n",
       "6             7     2078563.71\n",
       "7             8     1653541.01\n",
       "8             9     1279777.63\n",
       "9            10     1244821.42\n",
       "10           11     1838038.21\n",
       "11           12     1140052.14"
      ]
     },
     "execution_count": 52,
     "metadata": {},
     "output_type": "execute_result"
    }
   ],
   "source": [
    "sales_by_month"
   ]
  },
  {
   "cell_type": "code",
   "execution_count": 53,
   "id": "02e3871e",
   "metadata": {},
   "outputs": [
    {
     "data": {
      "image/png": "[encoded data removed]",
      "text/plain": [
       "<Figure size 864x432 with 1 Axes>"
      ]
     },
     "metadata": {},
     "output_type": "display_data"
    }
   ],
   "source": [
    "# Plot the monthly sales figures over time\n",
    "plt.figure(figsize=(12, 6))\n",
    "plt.plot(sales_by_month['order_month'], sales_by_month['payment_value'])\n",
    "plt.xticks(rotation=90)\n",
    "plt.xlabel('Year-Month')\n",
    "plt.ylabel('Sales')\n",
    "plt.title('Monthly Sales Figures')\n",
    "plt.show()\n"
   ]
  },
  {
   "cell_type": "markdown",
   "id": "78c2da08",
   "metadata": {},
   "source": [
    "How the total sales (sum of price) are concentraded in brazilian states?"
   ]
  },
  {
   "cell_type": "code",
   "execution_count": 54,
   "id": "ea5177e3",
   "metadata": {},
   "outputs": [
    {
     "data": {
      "text/html": [
       "<div>\n",
       "<style scoped>\n",
       "    .dataframe tbody tr th:only-of-type {\n",
       "        vertical-align: middle;\n",
       "    }\n",
       "\n",
       "    .dataframe tbody tr th {\n",
       "        vertical-align: top;\n",
       "    }\n",
       "\n",
       "    .dataframe thead th {\n",
       "        text-align: right;\n",
       "    }\n",
       "</style>\n",
       "<table border=\"1\" class=\"dataframe\">\n",
       "  <thead>\n",
       "    <tr style=\"text-align: right;\">\n",
       "      <th></th>\n",
       "      <th>customer_state</th>\n",
       "      <th>payment_value</th>\n",
       "    </tr>\n",
       "  </thead>\n",
       "  <tbody>\n",
       "    <tr>\n",
       "      <th>0</th>\n",
       "      <td>SP</td>\n",
       "      <td>7502926.95</td>\n",
       "    </tr>\n",
       "    <tr>\n",
       "      <th>1</th>\n",
       "      <td>RJ</td>\n",
       "      <td>2708839.33</td>\n",
       "    </tr>\n",
       "    <tr>\n",
       "      <th>2</th>\n",
       "      <td>MG</td>\n",
       "      <td>2288949.71</td>\n",
       "    </tr>\n",
       "    <tr>\n",
       "      <th>3</th>\n",
       "      <td>RS</td>\n",
       "      <td>1131899.22</td>\n",
       "    </tr>\n",
       "    <tr>\n",
       "      <th>4</th>\n",
       "      <td>PR</td>\n",
       "      <td>1055747.81</td>\n",
       "    </tr>\n",
       "    <tr>\n",
       "      <th>5</th>\n",
       "      <td>BA</td>\n",
       "      <td>780334.54</td>\n",
       "    </tr>\n",
       "    <tr>\n",
       "      <th>6</th>\n",
       "      <td>SC</td>\n",
       "      <td>769744.94</td>\n",
       "    </tr>\n",
       "    <tr>\n",
       "      <th>7</th>\n",
       "      <td>GO</td>\n",
       "      <td>459466.06</td>\n",
       "    </tr>\n",
       "    <tr>\n",
       "      <th>8</th>\n",
       "      <td>DF</td>\n",
       "      <td>430126.51</td>\n",
       "    </tr>\n",
       "    <tr>\n",
       "      <th>9</th>\n",
       "      <td>ES</td>\n",
       "      <td>390840.58</td>\n",
       "    </tr>\n",
       "    <tr>\n",
       "      <th>10</th>\n",
       "      <td>PE</td>\n",
       "      <td>368309.23</td>\n",
       "    </tr>\n",
       "    <tr>\n",
       "      <th>11</th>\n",
       "      <td>CE</td>\n",
       "      <td>337096.92</td>\n",
       "    </tr>\n",
       "    <tr>\n",
       "      <th>12</th>\n",
       "      <td>MT</td>\n",
       "      <td>253916.03</td>\n",
       "    </tr>\n",
       "    <tr>\n",
       "      <th>13</th>\n",
       "      <td>PA</td>\n",
       "      <td>241870.17</td>\n",
       "    </tr>\n",
       "    <tr>\n",
       "      <th>14</th>\n",
       "      <td>MA</td>\n",
       "      <td>195954.74</td>\n",
       "    </tr>\n",
       "    <tr>\n",
       "      <th>15</th>\n",
       "      <td>PB</td>\n",
       "      <td>175060.52</td>\n",
       "    </tr>\n",
       "    <tr>\n",
       "      <th>16</th>\n",
       "      <td>MS</td>\n",
       "      <td>165068.30</td>\n",
       "    </tr>\n",
       "    <tr>\n",
       "      <th>17</th>\n",
       "      <td>PI</td>\n",
       "      <td>135063.84</td>\n",
       "    </tr>\n",
       "    <tr>\n",
       "      <th>18</th>\n",
       "      <td>RN</td>\n",
       "      <td>114849.98</td>\n",
       "    </tr>\n",
       "    <tr>\n",
       "      <th>19</th>\n",
       "      <td>AL</td>\n",
       "      <td>109333.74</td>\n",
       "    </tr>\n",
       "    <tr>\n",
       "      <th>20</th>\n",
       "      <td>SE</td>\n",
       "      <td>85916.71</td>\n",
       "    </tr>\n",
       "    <tr>\n",
       "      <th>21</th>\n",
       "      <td>TO</td>\n",
       "      <td>71417.89</td>\n",
       "    </tr>\n",
       "    <tr>\n",
       "      <th>22</th>\n",
       "      <td>RO</td>\n",
       "      <td>64918.01</td>\n",
       "    </tr>\n",
       "    <tr>\n",
       "      <th>23</th>\n",
       "      <td>AM</td>\n",
       "      <td>33290.54</td>\n",
       "    </tr>\n",
       "    <tr>\n",
       "      <th>24</th>\n",
       "      <td>AC</td>\n",
       "      <td>24857.52</td>\n",
       "    </tr>\n",
       "    <tr>\n",
       "      <th>25</th>\n",
       "      <td>AP</td>\n",
       "      <td>21572.32</td>\n",
       "    </tr>\n",
       "    <tr>\n",
       "      <th>26</th>\n",
       "      <td>RR</td>\n",
       "      <td>12160.39</td>\n",
       "    </tr>\n",
       "  </tbody>\n",
       "</table>\n",
       "</div>"
      ],
      "text/plain": [
       "   customer_state  payment_value\n",
       "0              SP     7502926.95\n",
       "1              RJ     2708839.33\n",
       "2              MG     2288949.71\n",
       "3              RS     1131899.22\n",
       "4              PR     1055747.81\n",
       "5              BA      780334.54\n",
       "6              SC      769744.94\n",
       "7              GO      459466.06\n",
       "8              DF      430126.51\n",
       "9              ES      390840.58\n",
       "10             PE      368309.23\n",
       "11             CE      337096.92\n",
       "12             MT      253916.03\n",
       "13             PA      241870.17\n",
       "14             MA      195954.74\n",
       "15             PB      175060.52\n",
       "16             MS      165068.30\n",
       "17             PI      135063.84\n",
       "18             RN      114849.98\n",
       "19             AL      109333.74\n",
       "20             SE       85916.71\n",
       "21             TO       71417.89\n",
       "22             RO       64918.01\n",
       "23             AM       33290.54\n",
       "24             AC       24857.52\n",
       "25             AP       21572.32\n",
       "26             RR       12160.39"
      ]
     },
     "execution_count": 54,
     "metadata": {},
     "output_type": "execute_result"
    }
   ],
   "source": [
    "state_sales =df.groupby('customer_state')['payment_value'].sum().sort_values(ascending=False).reset_index()\n",
    "\n",
    "state_sales"
   ]
  },
  {
   "cell_type": "code",
   "execution_count": 55,
   "id": "17828501",
   "metadata": {},
   "outputs": [
    {
     "data": {
      "image/png": "[encoded data removed]",
      "text/plain": [
       "<Figure size 864x432 with 1 Axes>"
      ]
     },
     "metadata": {},
     "output_type": "display_data"
    }
   ],
   "source": [
    "# Plot the total sales by state\n",
    "plt.figure(figsize=(12, 6))\n",
    "plt.bar(state_sales['customer_state'], state_sales['payment_value'])\n",
    "plt.xlabel('State')\n",
    "plt.ylabel('Total Sales (BRL)')\n",
    "plt.title('Total Sales by State')\n",
    "plt.show()"
   ]
  },
  {
   "cell_type": "markdown",
   "id": "123341b2",
   "metadata": {},
   "source": [
    " This will give an idea of how the sales are distributed across different states, and which states are contributing the most to the total sales. "
   ]
  },
  {
   "cell_type": "raw",
   "id": "d10e6b58",
   "metadata": {},
   "source": [
    " "
   ]
  },
  {
   "cell_type": "markdown",
   "id": "afbb0e35",
   "metadata": {},
   "source": [
    "# Feature Engineering \n"
   ]
  },
  {
   "cell_type": "code",
   "execution_count": 56,
   "id": "2ae10912",
   "metadata": {},
   "outputs": [],
   "source": [
    "df['review_comment_title']=df['review_comment_title'].astype(str)\n",
    "df['review_comment_message']=df['review_comment_message'].astype(str)"
   ]
  },
  {
   "cell_type": "code",
   "execution_count": 57,
   "id": "e3636767",
   "metadata": {},
   "outputs": [],
   "source": [
    " #converting categorical varaible to numeric \n",
    "from sklearn.preprocessing import LabelEncoder, StandardScaler\n",
    "label_encoders = {}\n",
    "for col in ['order_id','customer_id','order_status','review_id','review_score','payment_type','customer_unique_id','review_comment_title','review_comment_message','customer_city','customer_state']:\n",
    "    le = LabelEncoder()\n",
    "    df[col] = le.fit_transform(df[col])\n",
    "    label_encoders[col] = le\n",
    " "
   ]
  },
  {
   "cell_type": "code",
   "execution_count": 58,
   "id": "77f83de7",
   "metadata": {},
   "outputs": [],
   "source": [
    "# Drop duplicates\n",
    "df.drop_duplicates(inplace=True) "
   ]
  },
  {
   "cell_type": "code",
   "execution_count": 59,
   "id": "b3d5b851",
   "metadata": {},
   "outputs": [
    {
     "name": "stdout",
     "output_type": "stream",
     "text": [
      "Total rows: 115609\n",
      "Total Columns: 40\n",
      "Unique values:\n",
      "\n",
      " review_id                        96319\n",
      "order_id                         96516\n",
      "review_score                         5\n",
      "review_comment_title              4466\n",
      "review_comment_message           35172\n",
      "review_creation_date               632\n",
      "review_answer_timestamp          87117\n",
      "customer_id                      96516\n",
      "order_status                         7\n",
      "order_purchase_timestamp         86415\n",
      "order_approved_at                49476\n",
      "order_delivered_carrier_date     60488\n",
      "order_delivered_customer_date    74374\n",
      "order_estimated_delivery_date      449\n",
      "payment_sequential                  29\n",
      "payment_type                         4\n",
      "payment_installments                24\n",
      "payment_value                    28657\n",
      "customer_unique_id               93396\n",
      "customer_zip_code_prefix         14907\n",
      "customer_city                     4093\n",
      "customer_state                      27\n",
      "order_item_id                       21\n",
      "product_id                       32171\n",
      "seller_id                         3028\n",
      "shipping_limit_date              53826\n",
      "price                             5879\n",
      "freight_value                     6954\n",
      "product_category_name               71\n",
      "product_name_lenght                 66\n",
      "product_description_lenght        2958\n",
      "product_photos_qty                  19\n",
      "product_weight_g                  2197\n",
      "product_length_cm                  100\n",
      "product_height_cm                  103\n",
      "product_width_cm                    96\n",
      "product_category_name_english       71\n",
      "order_month                         12\n",
      "order_day_of_week                    7\n",
      "order_hour_of_day                   24\n",
      "dtype: int64\n",
      "<class 'pandas.core.frame.DataFrame'>\n",
      "Int64Index: 115609 entries, 0 to 115608\n",
      "Data columns (total 40 columns):\n",
      " #   Column                         Non-Null Count   Dtype         \n",
      "---  ------                         --------------   -----         \n",
      " 0   review_id                      115609 non-null  int32         \n",
      " 1   order_id                       115609 non-null  int32         \n",
      " 2   review_score                   115609 non-null  int64         \n",
      " 3   review_comment_title           115609 non-null  int32         \n",
      " 4   review_comment_message         115609 non-null  int32         \n",
      " 5   review_creation_date           115609 non-null  object        \n",
      " 6   review_answer_timestamp        115609 non-null  object        \n",
      " 7   customer_id                    115609 non-null  int32         \n",
      " 8   order_status                   115609 non-null  int32         \n",
      " 9   order_purchase_timestamp       115609 non-null  datetime64[ns]\n",
      " 10  order_approved_at              115609 non-null  object        \n",
      " 11  order_delivered_carrier_date   115609 non-null  object        \n",
      " 12  order_delivered_customer_date  115609 non-null  object        \n",
      " 13  order_estimated_delivery_date  115609 non-null  object        \n",
      " 14  payment_sequential             115609 non-null  int64         \n",
      " 15  payment_type                   115609 non-null  int32         \n",
      " 16  payment_installments           115609 non-null  int64         \n",
      " 17  payment_value                  115609 non-null  float64       \n",
      " 18  customer_unique_id             115609 non-null  int32         \n",
      " 19  customer_zip_code_prefix       115609 non-null  int64         \n",
      " 20  customer_city                  115609 non-null  int32         \n",
      " 21  customer_state                 115609 non-null  int32         \n",
      " 22  order_item_id                  115609 non-null  int64         \n",
      " 23  product_id                     115609 non-null  object        \n",
      " 24  seller_id                      115609 non-null  object        \n",
      " 25  shipping_limit_date            115609 non-null  object        \n",
      " 26  price                          115609 non-null  float64       \n",
      " 27  freight_value                  115609 non-null  float64       \n",
      " 28  product_category_name          115609 non-null  object        \n",
      " 29  product_name_lenght            115609 non-null  float64       \n",
      " 30  product_description_lenght     115609 non-null  float64       \n",
      " 31  product_photos_qty             115609 non-null  float64       \n",
      " 32  product_weight_g               115609 non-null  float64       \n",
      " 33  product_length_cm              115609 non-null  float64       \n",
      " 34  product_height_cm              115609 non-null  float64       \n",
      " 35  product_width_cm               115609 non-null  float64       \n",
      " 36  product_category_name_english  115609 non-null  object        \n",
      " 37  order_month                    115609 non-null  int64         \n",
      " 38  order_day_of_week              115609 non-null  int64         \n",
      " 39  order_hour_of_day              115609 non-null  int64         \n",
      "dtypes: datetime64[ns](1), float64(10), int32(10), int64(8), object(11)\n",
      "memory usage: 31.8+ MB\n"
     ]
    }
   ],
   "source": [
    "print(\"Total rows:\",df.shape[0])\n",
    "print(\"Total Columns:\",df.shape[1])\n",
    "print(\"Unique values:\\n\\n\",df.nunique())\n",
    "df.info()"
   ]
  },
  {
   "cell_type": "code",
   "execution_count": 60,
   "id": "7e684d78",
   "metadata": {},
   "outputs": [
    {
     "data": {
      "text/plain": [
       "3574    18267\n",
       "3135     8022\n",
       "451      3196\n",
       "556      2434\n",
       "1139     1790\n",
       "        ...  \n",
       "3918        1\n",
       "3393        1\n",
       "3790        1\n",
       "553         1\n",
       "1308        1\n",
       "Name: customer_city, Length: 4093, dtype: int64"
      ]
     },
     "execution_count": 60,
     "metadata": {},
     "output_type": "execute_result"
    }
   ],
   "source": [
    "# Univaria/te analysis of the 'customer_state' variable\n",
    "city_counts =df['customer_city'].value_counts()\n",
    "city_counts"
   ]
  },
  {
   "cell_type": "code",
   "execution_count": 61,
   "id": "cd2443ff",
   "metadata": {},
   "outputs": [],
   "source": [
    "df['review_creation_date'] = pd.to_datetime(df['review_creation_date'])\n",
    "df['review_creation_year'] = df['review_creation_date'].dt.year\n",
    "df['review_creation_month'] = df['review_creation_date'].dt.month\n",
    "df['review_creation_day'] = df['review_creation_date'].dt.day\n"
   ]
  },
  {
   "cell_type": "code",
   "execution_count": 62,
   "id": "50be4ce5",
   "metadata": {},
   "outputs": [],
   "source": [
    "df['order_purchase_timestamp'] = pd.to_datetime(df['order_purchase_timestamp'])\n",
    "df['order_purchase_year'] = df['order_purchase_timestamp'].dt.year\n",
    "df['order_purchase_month'] = df['order_purchase_timestamp'].dt.month\n",
    "df['order_purchase_day'] = df['order_purchase_timestamp'].dt.day\n",
    " "
   ]
  },
  {
   "cell_type": "code",
   "execution_count": 63,
   "id": "245b499e",
   "metadata": {},
   "outputs": [],
   "source": [
    "df['order_approved_at'] = pd.to_datetime(df['order_approved_at'])\n",
    "df['order_approved_year'] = df['order_approved_at'].dt.year\n",
    "df['order_approved_month'] = df['order_approved_at'].dt.month\n",
    "df['order_approved_day'] = df['order_approved_at'].dt.day\n",
    " "
   ]
  },
  {
   "cell_type": "code",
   "execution_count": 64,
   "id": "9cbd5a08",
   "metadata": {},
   "outputs": [],
   "source": [
    "df['order_delivered_carrier_date'] = pd.to_datetime(df['order_delivered_carrier_date'])\n",
    "df['order_delivered_carrier_year'] = df['order_delivered_carrier_date'].dt.year\n",
    "df['order_delivered_carrier_month'] = df['order_delivered_carrier_date'].dt.month\n",
    "df['order_delivered_carrier_day'] = df['order_delivered_carrier_date'].dt.day\n",
    " "
   ]
  },
  {
   "cell_type": "code",
   "execution_count": 65,
   "id": "30c3c4fe",
   "metadata": {},
   "outputs": [],
   "source": [
    "df['order_estimated_delivery_date'] = pd.to_datetime(df['order_estimated_delivery_date'])\n",
    "df['order_estimated_delivery_year'] = df['order_estimated_delivery_date'].dt.year\n",
    "df['order_estimated_delivery_month'] = df['order_estimated_delivery_date'].dt.month\n",
    "df['order_estimated_delivery_day'] = df['order_estimated_delivery_date'].dt.day"
   ]
  },
  {
   "cell_type": "code",
   "execution_count": 66,
   "id": "95fd2d39",
   "metadata": {},
   "outputs": [],
   "source": [
    "df['order_delivered_customer_date'] = pd.to_datetime(df['order_delivered_customer_date'])\n",
    "df['order_delivered_customer_year'] = df['order_delivered_customer_date'].dt.year\n",
    "df['order_delivered_customer_month'] = df['order_delivered_customer_date'].dt.month\n",
    "df['order_delivered_customer_day'] = df['order_delivered_customer_date'].dt.day"
   ]
  },
  {
   "cell_type": "code",
   "execution_count": null,
   "id": "1943bb03",
   "metadata": {},
   "outputs": [],
   "source": [
    " "
   ]
  },
  {
   "cell_type": "code",
   "execution_count": 67,
   "id": "7237392f",
   "metadata": {},
   "outputs": [],
   "source": [
    "df['review_answer_timestamp'] = pd.to_datetime(df['review_answer_timestamp'])\n",
    "df['review_answer_year'] = df['review_answer_timestamp'].dt.year\n",
    "df['review_answer_month'] = df['review_answer_timestamp'].dt.month\n",
    "df['review_answer_day'] = df['review_answer_timestamp'].dt.day\n",
    " "
   ]
  },
  {
   "cell_type": "code",
   "execution_count": 68,
   "id": "78722367",
   "metadata": {},
   "outputs": [
    {
     "data": {
      "text/html": [
       "<div>\n",
       "<style scoped>\n",
       "    .dataframe tbody tr th:only-of-type {\n",
       "        vertical-align: middle;\n",
       "    }\n",
       "\n",
       "    .dataframe tbody tr th {\n",
       "        vertical-align: top;\n",
       "    }\n",
       "\n",
       "    .dataframe thead th {\n",
       "        text-align: right;\n",
       "    }\n",
       "</style>\n",
       "<table border=\"1\" class=\"dataframe\">\n",
       "  <thead>\n",
       "    <tr style=\"text-align: right;\">\n",
       "      <th></th>\n",
       "      <th>review_id</th>\n",
       "      <th>order_id</th>\n",
       "      <th>review_score</th>\n",
       "      <th>review_comment_title</th>\n",
       "      <th>review_comment_message</th>\n",
       "      <th>review_creation_date</th>\n",
       "      <th>review_answer_timestamp</th>\n",
       "      <th>customer_id</th>\n",
       "      <th>order_status</th>\n",
       "      <th>order_purchase_timestamp</th>\n",
       "      <th>...</th>\n",
       "      <th>order_estimated_delivery_year</th>\n",
       "      <th>order_estimated_delivery_month</th>\n",
       "      <th>order_estimated_delivery_day</th>\n",
       "      <th>order_delivered_customer_year</th>\n",
       "      <th>order_delivered_customer_month</th>\n",
       "      <th>order_delivered_customer_day</th>\n",
       "      <th>review_answer_year</th>\n",
       "      <th>review_answer_month</th>\n",
       "      <th>review_answer_day</th>\n",
       "      <th>delivery_time</th>\n",
       "    </tr>\n",
       "  </thead>\n",
       "  <tbody>\n",
       "    <tr>\n",
       "      <th>0</th>\n",
       "      <td>46641</td>\n",
       "      <td>43703</td>\n",
       "      <td>3</td>\n",
       "      <td>55</td>\n",
       "      <td>194</td>\n",
       "      <td>2018-01-18</td>\n",
       "      <td>2018-01-18 21:46:00</td>\n",
       "      <td>24835</td>\n",
       "      <td>2</td>\n",
       "      <td>2018-11-01 15:30:00</td>\n",
       "      <td>...</td>\n",
       "      <td>2018</td>\n",
       "      <td>2</td>\n",
       "      <td>2</td>\n",
       "      <td>2018</td>\n",
       "      <td>1</td>\n",
       "      <td>17</td>\n",
       "      <td>2018</td>\n",
       "      <td>1</td>\n",
       "      <td>18</td>\n",
       "      <td>16</td>\n",
       "    </tr>\n",
       "    <tr>\n",
       "      <th>1</th>\n",
       "      <td>46641</td>\n",
       "      <td>43703</td>\n",
       "      <td>3</td>\n",
       "      <td>55</td>\n",
       "      <td>194</td>\n",
       "      <td>2018-01-18</td>\n",
       "      <td>2018-01-18 21:46:00</td>\n",
       "      <td>24835</td>\n",
       "      <td>2</td>\n",
       "      <td>2018-11-01 15:30:00</td>\n",
       "      <td>...</td>\n",
       "      <td>2018</td>\n",
       "      <td>2</td>\n",
       "      <td>2</td>\n",
       "      <td>2018</td>\n",
       "      <td>1</td>\n",
       "      <td>17</td>\n",
       "      <td>2018</td>\n",
       "      <td>1</td>\n",
       "      <td>18</td>\n",
       "      <td>16</td>\n",
       "    </tr>\n",
       "    <tr>\n",
       "      <th>2</th>\n",
       "      <td>85218</td>\n",
       "      <td>9603</td>\n",
       "      <td>4</td>\n",
       "      <td>55</td>\n",
       "      <td>194</td>\n",
       "      <td>2018-10-04</td>\n",
       "      <td>2018-11-04 11:30:00</td>\n",
       "      <td>67115</td>\n",
       "      <td>2</td>\n",
       "      <td>2018-03-26 11:02:00</td>\n",
       "      <td>...</td>\n",
       "      <td>2018</td>\n",
       "      <td>4</td>\n",
       "      <td>27</td>\n",
       "      <td>2018</td>\n",
       "      <td>9</td>\n",
       "      <td>4</td>\n",
       "      <td>2018</td>\n",
       "      <td>11</td>\n",
       "      <td>4</td>\n",
       "      <td>-22</td>\n",
       "    </tr>\n",
       "    <tr>\n",
       "      <th>3</th>\n",
       "      <td>76647</td>\n",
       "      <td>90455</td>\n",
       "      <td>4</td>\n",
       "      <td>55</td>\n",
       "      <td>194</td>\n",
       "      <td>2017-12-28</td>\n",
       "      <td>2017-12-30 12:07:00</td>\n",
       "      <td>82477</td>\n",
       "      <td>2</td>\n",
       "      <td>2017-07-12 20:33:00</td>\n",
       "      <td>...</td>\n",
       "      <td>2018</td>\n",
       "      <td>8</td>\n",
       "      <td>1</td>\n",
       "      <td>2017</td>\n",
       "      <td>12</td>\n",
       "      <td>27</td>\n",
       "      <td>2017</td>\n",
       "      <td>12</td>\n",
       "      <td>30</td>\n",
       "      <td>15</td>\n",
       "    </tr>\n",
       "    <tr>\n",
       "      <th>4</th>\n",
       "      <td>93187</td>\n",
       "      <td>53399</td>\n",
       "      <td>4</td>\n",
       "      <td>55</td>\n",
       "      <td>20099</td>\n",
       "      <td>2018-01-03</td>\n",
       "      <td>2018-02-03 10:26:00</td>\n",
       "      <td>33634</td>\n",
       "      <td>2</td>\n",
       "      <td>2018-10-02 10:59:00</td>\n",
       "      <td>...</td>\n",
       "      <td>2018</td>\n",
       "      <td>9</td>\n",
       "      <td>3</td>\n",
       "      <td>2018</td>\n",
       "      <td>2</td>\n",
       "      <td>28</td>\n",
       "      <td>2018</td>\n",
       "      <td>2</td>\n",
       "      <td>3</td>\n",
       "      <td>26</td>\n",
       "    </tr>\n",
       "  </tbody>\n",
       "</table>\n",
       "<p>5 rows × 62 columns</p>\n",
       "</div>"
      ],
      "text/plain": [
       "   review_id  order_id  review_score  review_comment_title  \\\n",
       "0      46641     43703             3                    55   \n",
       "1      46641     43703             3                    55   \n",
       "2      85218      9603             4                    55   \n",
       "3      76647     90455             4                    55   \n",
       "4      93187     53399             4                    55   \n",
       "\n",
       "   review_comment_message review_creation_date review_answer_timestamp  \\\n",
       "0                     194           2018-01-18     2018-01-18 21:46:00   \n",
       "1                     194           2018-01-18     2018-01-18 21:46:00   \n",
       "2                     194           2018-10-04     2018-11-04 11:30:00   \n",
       "3                     194           2017-12-28     2017-12-30 12:07:00   \n",
       "4                   20099           2018-01-03     2018-02-03 10:26:00   \n",
       "\n",
       "   customer_id  order_status order_purchase_timestamp  ...  \\\n",
       "0        24835             2      2018-11-01 15:30:00  ...   \n",
       "1        24835             2      2018-11-01 15:30:00  ...   \n",
       "2        67115             2      2018-03-26 11:02:00  ...   \n",
       "3        82477             2      2017-07-12 20:33:00  ...   \n",
       "4        33634             2      2018-10-02 10:59:00  ...   \n",
       "\n",
       "  order_estimated_delivery_year order_estimated_delivery_month  \\\n",
       "0                          2018                              2   \n",
       "1                          2018                              2   \n",
       "2                          2018                              4   \n",
       "3                          2018                              8   \n",
       "4                          2018                              9   \n",
       "\n",
       "  order_estimated_delivery_day order_delivered_customer_year  \\\n",
       "0                            2                          2018   \n",
       "1                            2                          2018   \n",
       "2                           27                          2018   \n",
       "3                            1                          2017   \n",
       "4                            3                          2018   \n",
       "\n",
       "   order_delivered_customer_month  order_delivered_customer_day  \\\n",
       "0                               1                            17   \n",
       "1                               1                            17   \n",
       "2                               9                             4   \n",
       "3                              12                            27   \n",
       "4                               2                            28   \n",
       "\n",
       "   review_answer_year  review_answer_month  review_answer_day  delivery_time  \n",
       "0                2018                    1                 18             16  \n",
       "1                2018                    1                 18             16  \n",
       "2                2018                   11                  4            -22  \n",
       "3                2017                   12                 30             15  \n",
       "4                2018                    2                  3             26  \n",
       "\n",
       "[5 rows x 62 columns]"
      ]
     },
     "execution_count": 68,
     "metadata": {},
     "output_type": "execute_result"
    }
   ],
   "source": [
    "# Create a new column for the time taken to deliver the order\n",
    "df['delivery_time'] = df['order_delivered_customer_day']-df['order_purchase_day']\n",
    "df.head()"
   ]
  },
  {
   "cell_type": "code",
   "execution_count": 69,
   "id": "86ece6d4",
   "metadata": {},
   "outputs": [],
   "source": [
    "#If the delivery time is showing negative values in the Olist data, it indicates a data issue or inconsistency"
   ]
  },
  {
   "cell_type": "code",
   "execution_count": null,
   "id": "517b9c90",
   "metadata": {},
   "outputs": [],
   "source": [
    " "
   ]
  },
  {
   "cell_type": "code",
   "execution_count": null,
   "id": "72aea1f7",
   "metadata": {},
   "outputs": [],
   "source": [
    " "
   ]
  },
  {
   "cell_type": "code",
   "execution_count": null,
   "id": "7588f103",
   "metadata": {},
   "outputs": [],
   "source": [
    " "
   ]
  },
  {
   "cell_type": "code",
   "execution_count": null,
   "id": "8dc9462c",
   "metadata": {},
   "outputs": [],
   "source": [
    " \n"
   ]
  },
  {
   "cell_type": "code",
   "execution_count": null,
   "id": "20dbc202",
   "metadata": {},
   "outputs": [],
   "source": [
    " "
   ]
  },
  {
   "cell_type": "code",
   "execution_count": null,
   "id": "04f06b37",
   "metadata": {},
   "outputs": [],
   "source": [
    " "
   ]
  },
  {
   "cell_type": "code",
   "execution_count": null,
   "id": "25114392",
   "metadata": {},
   "outputs": [],
   "source": [
    " "
   ]
  },
  {
   "cell_type": "code",
   "execution_count": 70,
   "id": "899410a4",
   "metadata": {},
   "outputs": [],
   "source": [
    "df = df[df['delivery_time'] > 0]"
   ]
  },
  {
   "cell_type": "code",
   "execution_count": 71,
   "id": "d5efc5de",
   "metadata": {},
   "outputs": [
    {
     "name": "stdout",
     "output_type": "stream",
     "text": [
      "count    65521.000000\n",
      "mean         9.710276\n",
      "std          5.819858\n",
      "min          1.000000\n",
      "25%          5.000000\n",
      "50%          9.000000\n",
      "75%         13.000000\n",
      "max         30.000000\n",
      "Name: delivery_time, dtype: float64\n"
     ]
    }
   ],
   "source": [
    "# Descriptive statistics\n",
    "print(df['delivery_time'].describe())"
   ]
  },
  {
   "cell_type": "code",
   "execution_count": 72,
   "id": "6b0c9f74",
   "metadata": {},
   "outputs": [
    {
     "data": {
      "text/plain": [
       "count    65521.000000\n",
       "mean         9.710276\n",
       "std          5.819858\n",
       "min          1.000000\n",
       "25%          5.000000\n",
       "50%          9.000000\n",
       "75%         13.000000\n",
       "max         30.000000\n",
       "Name: delivery_time, dtype: float64"
      ]
     },
     "execution_count": 72,
     "metadata": {},
     "output_type": "execute_result"
    }
   ],
   "source": [
    "df['delivery_time'].describe()"
   ]
  },
  {
   "cell_type": "markdown",
   "id": "5f2e6efc",
   "metadata": {},
   "source": [
    "Histogram: Examine the distribution of the delivery time to understand its shape and identify any patterns or anomalies."
   ]
  },
  {
   "cell_type": "code",
   "execution_count": 73,
   "id": "9e1c50fe",
   "metadata": {},
   "outputs": [
    {
     "data": {
      "image/png": "[encoded data removed]",
      "text/plain": [
       "<Figure size 720x432 with 1 Axes>"
      ]
     },
     "metadata": {},
     "output_type": "display_data"
    }
   ],
   "source": [
    "# Histogram of delivery time\n",
    "plt.figure(figsize=(10, 6))\n",
    "sns.histplot(df['delivery_time'].dropna(), kde=True)\n",
    "plt.xlabel('Delivery Time (days)')\n",
    "plt.ylabel('Count')\n",
    "plt.title('Distribution of Delivery Time')\n",
    "plt.show()"
   ]
  },
  {
   "cell_type": "code",
   "execution_count": null,
   "id": "86512b19",
   "metadata": {},
   "outputs": [],
   "source": [
    " "
   ]
  },
  {
   "cell_type": "markdown",
   "id": "e3e9850e",
   "metadata": {},
   "source": [
    "Bar plots can display the average review score for each category of delivery time, \n",
    "providing a straightforward comparison of customer satisfaction across different time intervals."
   ]
  },
  {
   "cell_type": "code",
   "execution_count": 74,
   "id": "c03d94ca",
   "metadata": {},
   "outputs": [
    {
     "data": {
      "image/png": "[encoded data removed]",
      "text/plain": [
       "<Figure size 432x288 with 1 Axes>"
      ]
     },
     "metadata": {},
     "output_type": "display_data"
    }
   ],
   "source": [
    "sns.barplot(x=pd.cut(df['delivery_time'], bins=[0, 7, 14, 30, 1000]),\n",
    "            y=df['review_score'])\n",
    "plt.xlabel('Delivery Time')\n",
    "plt.ylabel('Average Review Score')\n",
    "plt.title('Customer Satisfaction based on Delivery Time')\n",
    "plt.show()"
   ]
  },
  {
   "cell_type": "code",
   "execution_count": 75,
   "id": "bffeee0c",
   "metadata": {},
   "outputs": [
    {
     "name": "stdout",
     "output_type": "stream",
     "text": [
      "Correlation between delivery time and review score: -0.02084947243350753\n"
     ]
    }
   ],
   "source": [
    "# Correlation analysis\n",
    "correlation = df['delivery_time'].corr(df['review_score'])\n",
    "print(\"Correlation between delivery time and review score:\", correlation)"
   ]
  },
  {
   "cell_type": "code",
   "execution_count": 76,
   "id": "8551e303",
   "metadata": {},
   "outputs": [],
   "source": [
    "# Calculate order frequency per customer\n",
    "order_frequency = df.groupby('customer_id')['order_id'].nunique().reset_index()\n",
    "order_frequency = order_frequency.rename(columns={'order_id': 'order_frequency'})"
   ]
  },
  {
   "cell_type": "code",
   "execution_count": 77,
   "id": "4746cf6a",
   "metadata": {},
   "outputs": [
    {
     "data": {
      "text/html": [
       "<div>\n",
       "<style scoped>\n",
       "    .dataframe tbody tr th:only-of-type {\n",
       "        vertical-align: middle;\n",
       "    }\n",
       "\n",
       "    .dataframe tbody tr th {\n",
       "        vertical-align: top;\n",
       "    }\n",
       "\n",
       "    .dataframe thead th {\n",
       "        text-align: right;\n",
       "    }\n",
       "</style>\n",
       "<table border=\"1\" class=\"dataframe\">\n",
       "  <thead>\n",
       "    <tr style=\"text-align: right;\">\n",
       "      <th></th>\n",
       "      <th>customer_id</th>\n",
       "      <th>order_frequency</th>\n",
       "    </tr>\n",
       "  </thead>\n",
       "  <tbody>\n",
       "    <tr>\n",
       "      <th>0</th>\n",
       "      <td>0</td>\n",
       "      <td>1</td>\n",
       "    </tr>\n",
       "    <tr>\n",
       "      <th>1</th>\n",
       "      <td>1</td>\n",
       "      <td>1</td>\n",
       "    </tr>\n",
       "    <tr>\n",
       "      <th>2</th>\n",
       "      <td>4</td>\n",
       "      <td>1</td>\n",
       "    </tr>\n",
       "    <tr>\n",
       "      <th>3</th>\n",
       "      <td>5</td>\n",
       "      <td>1</td>\n",
       "    </tr>\n",
       "    <tr>\n",
       "      <th>4</th>\n",
       "      <td>6</td>\n",
       "      <td>1</td>\n",
       "    </tr>\n",
       "  </tbody>\n",
       "</table>\n",
       "</div>"
      ],
      "text/plain": [
       "   customer_id  order_frequency\n",
       "0            0                1\n",
       "1            1                1\n",
       "2            4                1\n",
       "3            5                1\n",
       "4            6                1"
      ]
     },
     "execution_count": 77,
     "metadata": {},
     "output_type": "execute_result"
    }
   ],
   "source": [
    " order_frequency.head()"
   ]
  },
  {
   "cell_type": "code",
   "execution_count": 78,
   "id": "e2406683",
   "metadata": {},
   "outputs": [],
   "source": [
    "\n",
    "df = pd.merge(df, order_frequency, on='customer_id')"
   ]
  },
  {
   "cell_type": "code",
   "execution_count": null,
   "id": "25feadb0",
   "metadata": {},
   "outputs": [],
   "source": []
  },
  {
   "cell_type": "code",
   "execution_count": 79,
   "id": "dc19d714",
   "metadata": {},
   "outputs": [
    {
     "data": {
      "image/png": "[encoded data removed]",
      "text/plain": [
       "<Figure size 432x288 with 1 Axes>"
      ]
     },
     "metadata": {},
     "output_type": "display_data"
    }
   ],
   "source": [
    " # Create a violin plot to visualize the distribution of review scores by order frequency\n",
    "sns.violinplot(x='order_frequency', y='review_score', data=df)\n",
    "plt.title('Review Scores by Order Frequency')\n",
    "plt.xlabel('Order Frequency')\n",
    "plt.ylabel('Review Score')\n",
    "plt.show()"
   ]
  },
  {
   "cell_type": "markdown",
   "id": "ebf0ec69",
   "metadata": {},
   "source": [
    "From the chart we can see that the majority of customers who leave a review have only made one order, and the majority of these customers have given a 4.5 star review."
   ]
  },
  {
   "cell_type": "code",
   "execution_count": 80,
   "id": "e75b7fce",
   "metadata": {},
   "outputs": [],
   "source": [
    " # Create price range categories\n",
    "import numpy as np\n",
    "price_ranges = pd.cut(df['price'], bins=[0, 50, 100, 500, np.inf], labels=['Low', 'Medium', 'High', 'Very High'])\n",
    "df['price_range'] = price_ranges"
   ]
  },
  {
   "cell_type": "code",
   "execution_count": 81,
   "id": "d16fde79",
   "metadata": {},
   "outputs": [
    {
     "data": {
      "text/plain": [
       "0         High\n",
       "1         High\n",
       "2         High\n",
       "3    Very High\n",
       "4    Very High\n",
       "Name: price, dtype: category\n",
       "Categories (4, object): ['Low' < 'Medium' < 'High' < 'Very High']"
      ]
     },
     "execution_count": 81,
     "metadata": {},
     "output_type": "execute_result"
    }
   ],
   "source": [
    "price_ranges.head()"
   ]
  },
  {
   "cell_type": "code",
   "execution_count": 82,
   "id": "0185edbf",
   "metadata": {},
   "outputs": [],
   "source": [
    "# Create crosstab of review scores by price range\n",
    "price_review_crosstab = pd.crosstab(df['review_score'], df['price_range'])\n",
    "\n",
    " "
   ]
  },
  {
   "cell_type": "code",
   "execution_count": 83,
   "id": "478a6720",
   "metadata": {},
   "outputs": [
    {
     "data": {
      "image/png": "[encoded data removed]",
      "text/plain": [
       "<Figure size 432x288 with 1 Axes>"
      ]
     },
     "metadata": {},
     "output_type": "display_data"
    }
   ],
   "source": [
    "# Plot pie chart of review scores by price range\n",
    "plt.pie(price_review_crosstab.sum(), labels=price_review_crosstab.columns, autopct='%1.1f%%', startangle=90)\n",
    "plt.title('Distribution of Review Scores by Price Range')\n",
    "plt.axis('equal')\n",
    "plt.show()"
   ]
  },
  {
   "cell_type": "markdown",
   "id": "bb8dfd9c",
   "metadata": {},
   "source": [
    "Above graph suggests that most reviews are associated with products in the low price range. "
   ]
  },
  {
   "cell_type": "code",
   "execution_count": null,
   "id": "9b18abf8",
   "metadata": {},
   "outputs": [],
   "source": [
    " "
   ]
  },
  {
   "cell_type": "code",
   "execution_count": null,
   "id": "f02d7192",
   "metadata": {},
   "outputs": [],
   "source": [
    " "
   ]
  },
  {
   "cell_type": "code",
   "execution_count": null,
   "id": "c16e817a",
   "metadata": {},
   "outputs": [],
   "source": [
    " "
   ]
  },
  {
   "cell_type": "code",
   "execution_count": 84,
   "id": "63f0acf8",
   "metadata": {},
   "outputs": [
    {
     "data": {
      "text/plain": [
       "review_id                     0\n",
       "order_id                      0\n",
       "review_score                  0\n",
       "review_comment_title          0\n",
       "review_comment_message        0\n",
       "                          ...  \n",
       "review_answer_day             0\n",
       "delivery_time                 0\n",
       "order_frequency               0\n",
       "price_range                   0\n",
       "order_quantity_range      57406\n",
       "Length: 65, dtype: int64"
      ]
     },
     "execution_count": 84,
     "metadata": {},
     "output_type": "execute_result"
    }
   ],
   "source": [
    "# Create a new column for the order quantity range\n",
    "quantity_ranges = [1, 2, 3, 4, 5, 10, 20, df['order_item_id'].max()]\n",
    "quantity_labels = ['1', '2', '3', '4', '5-10', '11-20', '>20']\n",
    "df['order_quantity_range'] = pd.cut(df['order_item_id'], quantity_ranges, labels=quantity_labels)\n",
    "df.isnull().sum()\n"
   ]
  },
  {
   "cell_type": "code",
   "execution_count": 85,
   "id": "11d40e3e",
   "metadata": {},
   "outputs": [
    {
     "data": {
      "text/plain": [
       "review_id                 0\n",
       "order_id                  0\n",
       "review_score              0\n",
       "review_comment_title      0\n",
       "review_comment_message    0\n",
       "                         ..\n",
       "review_answer_day         0\n",
       "delivery_time             0\n",
       "order_frequency           0\n",
       "price_range               0\n",
       "order_quantity_range      0\n",
       "Length: 65, dtype: int64"
      ]
     },
     "execution_count": 85,
     "metadata": {},
     "output_type": "execute_result"
    }
   ],
   "source": [
    "df['order_quantity_range'].fillna(df['order_quantity_range'].mode()[0], inplace=True)\n",
    "df.isnull().sum()\n"
   ]
  },
  {
   "cell_type": "code",
   "execution_count": 86,
   "id": "5a2d6a39",
   "metadata": {},
   "outputs": [],
   "source": [
    "# Group the dataframe by price range, quantity range, and calculate the average review score\n",
    "grouped = df.groupby(['price_range', 'order_quantity_range'])['review_score'].mean()\n"
   ]
  },
  {
   "cell_type": "code",
   "execution_count": 87,
   "id": "7c8b1af0",
   "metadata": {},
   "outputs": [],
   "source": [
    "# Reset the index of the resulting dataframe\n",
    "grouped = grouped.reset_index()"
   ]
  },
  {
   "cell_type": "code",
   "execution_count": 88,
   "id": "808fc815",
   "metadata": {},
   "outputs": [],
   "source": [
    "# Create a pivot table for visualization\n",
    "pivot_table = grouped.pivot('order_quantity_range', 'price_range', 'review_score')"
   ]
  },
  {
   "cell_type": "code",
   "execution_count": null,
   "id": "2984c327",
   "metadata": {},
   "outputs": [],
   "source": [
    " "
   ]
  },
  {
   "cell_type": "code",
   "execution_count": 89,
   "id": "35170e5d",
   "metadata": {},
   "outputs": [
    {
     "data": {
      "image/png": "[encoded data removed]",
      "text/plain": [
       "<Figure size 720x432 with 2 Axes>"
      ]
     },
     "metadata": {},
     "output_type": "display_data"
    }
   ],
   "source": [
    "# Plot the heatmap\n",
    "plt.figure(figsize=(10, 6))\n",
    "sns.heatmap(pivot_table, annot=True, cmap='YlGnBu', fmt=\".2f\", cbar=True)\n",
    "plt.title('Average Review Scores by Price Range and Order Quantity')\n",
    "plt.xlabel('Price Range')\n",
    "plt.ylabel('Order Quantity Range')\n",
    "plt.show()\n"
   ]
  },
  {
   "cell_type": "raw",
   "id": "031d6e01",
   "metadata": {},
   "source": [
    " \n"
   ]
  },
  {
   "cell_type": "code",
   "execution_count": null,
   "id": "67132880",
   "metadata": {},
   "outputs": [],
   "source": []
  },
  {
   "cell_type": "code",
   "execution_count": null,
   "id": "5aa8f289",
   "metadata": {},
   "outputs": [],
   "source": [
    " "
   ]
  },
  {
   "cell_type": "code",
   "execution_count": 90,
   "id": "3a58de1c",
   "metadata": {},
   "outputs": [
    {
     "name": "stdout",
     "output_type": "stream",
     "text": [
      "<class 'pandas.core.frame.DataFrame'>\n",
      "RangeIndex: 28 entries, 0 to 27\n",
      "Data columns (total 3 columns):\n",
      " #   Column                Non-Null Count  Dtype   \n",
      "---  ------                --------------  -----   \n",
      " 0   price_range           28 non-null     category\n",
      " 1   order_quantity_range  28 non-null     category\n",
      " 2   review_score          23 non-null     float64 \n",
      "dtypes: category(2), float64(1)\n",
      "memory usage: 968.0 bytes\n"
     ]
    }
   ],
   "source": [
    " grouped.info()\n"
   ]
  },
  {
   "cell_type": "code",
   "execution_count": 91,
   "id": "525cdbe2",
   "metadata": {},
   "outputs": [
    {
     "data": {
      "text/plain": [
       "review_id                 0\n",
       "order_id                  0\n",
       "review_score              0\n",
       "review_comment_title      0\n",
       "review_comment_message    0\n",
       "                         ..\n",
       "review_answer_day         0\n",
       "delivery_time             0\n",
       "order_frequency           0\n",
       "price_range               0\n",
       "order_quantity_range      0\n",
       "Length: 65, dtype: int64"
      ]
     },
     "execution_count": 91,
     "metadata": {},
     "output_type": "execute_result"
    }
   ],
   "source": [
    "df.isnull().sum()\n"
   ]
  },
  {
   "cell_type": "code",
   "execution_count": null,
   "id": "0736d7bb",
   "metadata": {},
   "outputs": [],
   "source": [
    " "
   ]
  },
  {
   "cell_type": "code",
   "execution_count": 92,
   "id": "1e1305f4",
   "metadata": {},
   "outputs": [],
   "source": [
    "#To select features that are necessary for data modeling in the Olist dataset using correlation analysis"
   ]
  },
  {
   "cell_type": "code",
   "execution_count": 93,
   "id": "1058a862",
   "metadata": {},
   "outputs": [],
   "source": [
    "df=df[['order_status','payment_type','payment_value','customer_city','price',\n",
    "     'freight_value','product_category_name_english','order_month','order_day_of_week','order_hour_of_day','delivery_time',\n",
    "     'price_range','order_quantity_range','review_score']]"
   ]
  },
  {
   "cell_type": "code",
   "execution_count": 94,
   "id": "091dda31",
   "metadata": {},
   "outputs": [],
   "source": [
    "# Specify the file path where you want to save the merged CSV\n",
    "file_path = \"C:\\olist_data\\df.csv\"\n",
    "df.to_csv(file_path, index=False)\n"
   ]
  },
  {
   "cell_type": "code",
   "execution_count": 95,
   "id": "9ea34d1c",
   "metadata": {},
   "outputs": [],
   "source": [
    "x=df[['order_status','payment_type','payment_value','customer_city','price',\n",
    "     'freight_value','product_category_name_english','order_month','order_day_of_week','order_hour_of_day','delivery_time',\n",
    "     'price_range','order_quantity_range']]\n",
    "y = df['review_score']  "
   ]
  },
  {
   "cell_type": "code",
   "execution_count": null,
   "id": "7cede117",
   "metadata": {
    "scrolled": true
   },
   "outputs": [],
   "source": []
  },
  {
   "cell_type": "code",
   "execution_count": null,
   "id": "7a85f2c9",
   "metadata": {},
   "outputs": [],
   "source": []
  },
  {
   "cell_type": "raw",
   "id": "d86047e6",
   "metadata": {},
   "source": [
    " \n"
   ]
  },
  {
   "cell_type": "code",
   "execution_count": 96,
   "id": "ffcbf5bb",
   "metadata": {},
   "outputs": [],
   "source": [
    "correlation_matrix = x.corr()"
   ]
  },
  {
   "cell_type": "code",
   "execution_count": 97,
   "id": "081085a0",
   "metadata": {},
   "outputs": [
    {
     "data": {
      "image/png": "[encoded data removed]",
      "text/plain": [
       "<Figure size 1440x432 with 2 Axes>"
      ]
     },
     "metadata": {},
     "output_type": "display_data"
    }
   ],
   "source": [
    "plt.figure(figsize=(20,6))\n",
    "sns.heatmap(correlation_matrix, annot=True)\n",
    "plt.title('Correlation Matrix')\n",
    "plt.show()\n"
   ]
  },
  {
   "cell_type": "raw",
   "id": "3775d734",
   "metadata": {},
   "source": [
    " the threshold is set to 0.7,\n",
    "meaning that features with correlation coefficients above 0.7  are considered highly correlated."
   ]
  },
  {
   "cell_type": "code",
   "execution_count": null,
   "id": "062fc2b8",
   "metadata": {},
   "outputs": [],
   "source": [
    " "
   ]
  },
  {
   "cell_type": "code",
   "execution_count": 98,
   "id": "a53e8d88",
   "metadata": {},
   "outputs": [
    {
     "name": "stdout",
     "output_type": "stream",
     "text": [
      "('payment_value', 'price')\n"
     ]
    }
   ],
   "source": [
    "threshold = 0.7\n",
    "# Get the pairs of highly correlated features\n",
    "highly_correlated_pairs = []\n",
    "for i in range(len(correlation_matrix.columns)):\n",
    "    for j in range(i+1, len(correlation_matrix.columns)):\n",
    "        if abs(correlation_matrix.iloc[i, j]) > threshold:\n",
    "            pair = (correlation_matrix.columns[i], correlation_matrix.columns[j])\n",
    "            highly_correlated_pairs.append(pair)\n",
    "\n",
    "# Print the highly correlated feature pairs\n",
    "for pair in highly_correlated_pairs:\n",
    "    print(pair)"
   ]
  },
  {
   "cell_type": "code",
   "execution_count": 99,
   "id": "0bf11276",
   "metadata": {},
   "outputs": [],
   "source": [
    "data=df[['payment_type','customer_city',\n",
    "     'freight_value','product_category_name_english','order_month','order_day_of_week','order_hour_of_day','delivery_time',\n",
    "     'order_quantity_range','price','review_score']]"
   ]
  },
  {
   "cell_type": "code",
   "execution_count": 100,
   "id": "90aff4ad",
   "metadata": {},
   "outputs": [
    {
     "data": {
      "text/plain": [
       "review_score         1.000000\n",
       "order_month          0.023834\n",
       "customer_city        0.010140\n",
       "order_hour_of_day    0.007285\n",
       "price                0.004754\n",
       "payment_type        -0.004696\n",
       "delivery_time       -0.020849\n",
       "order_day_of_week   -0.023900\n",
       "freight_value       -0.034356\n",
       "Name: review_score, dtype: float64"
      ]
     },
     "execution_count": 100,
     "metadata": {},
     "output_type": "execute_result"
    }
   ],
   "source": [
    "corr_matrix =data.corr()\n",
    "corr_matrix['review_score'].sort_values(ascending=False)"
   ]
  },
  {
   "cell_type": "code",
   "execution_count": 101,
   "id": "55414c04",
   "metadata": {},
   "outputs": [],
   "source": [
    "x=df[['payment_type','customer_city',\n",
    "     'freight_value','product_category_name_english','order_month','order_day_of_week','order_hour_of_day','delivery_time',\n",
    "     'order_quantity_range','price']]\n",
    "y = df['review_score']  "
   ]
  },
  {
   "cell_type": "code",
   "execution_count": 102,
   "id": "26cc5518",
   "metadata": {},
   "outputs": [
    {
     "name": "stdout",
     "output_type": "stream",
     "text": [
      "<class 'pandas.core.frame.DataFrame'>\n",
      "Int64Index: 65521 entries, 0 to 65520\n",
      "Data columns (total 10 columns):\n",
      " #   Column                         Non-Null Count  Dtype   \n",
      "---  ------                         --------------  -----   \n",
      " 0   payment_type                   65521 non-null  int32   \n",
      " 1   customer_city                  65521 non-null  int32   \n",
      " 2   freight_value                  65521 non-null  float64 \n",
      " 3   product_category_name_english  65521 non-null  object  \n",
      " 4   order_month                    65521 non-null  int64   \n",
      " 5   order_day_of_week              65521 non-null  int64   \n",
      " 6   order_hour_of_day              65521 non-null  int64   \n",
      " 7   delivery_time                  65521 non-null  int64   \n",
      " 8   order_quantity_range           65521 non-null  category\n",
      " 9   price                          65521 non-null  float64 \n",
      "dtypes: category(1), float64(2), int32(2), int64(4), object(1)\n",
      "memory usage: 6.6+ MB\n"
     ]
    }
   ],
   "source": [
    "x.info()"
   ]
  },
  {
   "cell_type": "code",
   "execution_count": 103,
   "id": "d23a5cc6",
   "metadata": {},
   "outputs": [
    {
     "data": {
      "text/plain": [
       "0        4\n",
       "1        4\n",
       "2        3\n",
       "3        2\n",
       "4        1\n",
       "        ..\n",
       "65516    1\n",
       "65517    1\n",
       "65518    1\n",
       "65519    5\n",
       "65520    7\n",
       "Name: order_day_of_week, Length: 65521, dtype: int64"
      ]
     },
     "execution_count": 103,
     "metadata": {},
     "output_type": "execute_result"
    }
   ],
   "source": [
    " df['order_day_of_week']"
   ]
  },
  {
   "cell_type": "code",
   "execution_count": null,
   "id": "d4d2f5e9",
   "metadata": {},
   "outputs": [],
   "source": [
    " \n",
    " "
   ]
  },
  {
   "cell_type": "code",
   "execution_count": 104,
   "id": "5e172f5e",
   "metadata": {},
   "outputs": [
    {
     "name": "stdout",
     "output_type": "stream",
     "text": [
      "<class 'pandas.core.frame.DataFrame'>\n",
      "Int64Index: 65521 entries, 0 to 65520\n",
      "Data columns (total 10 columns):\n",
      " #   Column                         Non-Null Count  Dtype   \n",
      "---  ------                         --------------  -----   \n",
      " 0   payment_type                   65521 non-null  int32   \n",
      " 1   customer_city                  65521 non-null  int32   \n",
      " 2   freight_value                  65521 non-null  float64 \n",
      " 3   product_category_name_english  65521 non-null  object  \n",
      " 4   order_month                    65521 non-null  int64   \n",
      " 5   order_day_of_week              65521 non-null  int64   \n",
      " 6   order_hour_of_day              65521 non-null  int64   \n",
      " 7   delivery_time                  65521 non-null  int64   \n",
      " 8   order_quantity_range           65521 non-null  category\n",
      " 9   price                          65521 non-null  float64 \n",
      "dtypes: category(1), float64(2), int32(2), int64(4), object(1)\n",
      "memory usage: 6.6+ MB\n"
     ]
    }
   ],
   "source": [
    "x.info()"
   ]
  },
  {
   "cell_type": "code",
   "execution_count": 105,
   "id": "95e511e2",
   "metadata": {},
   "outputs": [
    {
     "name": "stderr",
     "output_type": "stream",
     "text": [
      "<ipython-input-105-08578c2d3d64>:6: SettingWithCopyWarning: \n",
      "A value is trying to be set on a copy of a slice from a DataFrame.\n",
      "Try using .loc[row_indexer,col_indexer] = value instead\n",
      "\n",
      "See the caveats in the documentation: https://pandas.pydata.org/pandas-docs/stable/user_guide/indexing.html#returning-a-view-versus-a-copy\n",
      "  x[col] = le.fit_transform(x[col])\n"
     ]
    }
   ],
   "source": [
    " #converting categorical varaible to numeric \n",
    "from sklearn.preprocessing import LabelEncoder, StandardScaler\n",
    "label_encoders = {}\n",
    "for col in ['freight_value','product_category_name_english','order_quantity_range']:\n",
    "    le = LabelEncoder()\n",
    "    x[col] = le.fit_transform(x[col])\n",
    "    label_encoders[col] = le"
   ]
  },
  {
   "cell_type": "code",
   "execution_count": null,
   "id": "987d60da",
   "metadata": {},
   "outputs": [],
   "source": []
  },
  {
   "cell_type": "code",
   "execution_count": 106,
   "id": "ce1ba197",
   "metadata": {
    "scrolled": true
   },
   "outputs": [],
   "source": [
    "# model building  "
   ]
  },
  {
   "cell_type": "code",
   "execution_count": 107,
   "id": "17ea6247",
   "metadata": {},
   "outputs": [],
   "source": [
    "from sklearn.model_selection import train_test_split\n",
    "from sklearn.linear_model import LinearRegression\n",
    " \n",
    "from sklearn.metrics import mean_squared_error,r2_score"
   ]
  },
  {
   "cell_type": "code",
   "execution_count": 108,
   "id": "4d512fed",
   "metadata": {},
   "outputs": [],
   "source": [
    " # Split the data into training and testing sets\n",
    "x_train, x_test, y_train, y_test = train_test_split(x,y, test_size=0.2, random_state=42)"
   ]
  },
  {
   "cell_type": "code",
   "execution_count": null,
   "id": "965c3ed0",
   "metadata": {},
   "outputs": [],
   "source": []
  },
  {
   "cell_type": "code",
   "execution_count": 109,
   "id": "2927faa2",
   "metadata": {},
   "outputs": [],
   "source": [
    "# Model 1: Linear Regression\n",
    "model = LinearRegression()\n",
    "model.fit(x_train,y_train) \n",
    "y_pred=model.predict(x_test)"
   ]
  },
  {
   "cell_type": "raw",
   "id": "4ec44476",
   "metadata": {},
   "source": [
    "The R2 score ranges from 0 to 1, where 0 indicates that the model does not explain any variance in the target variable, and 1 indicates that the model perfectly predicts the target variable. However, negative R2 scores are also possible if the model performs worse than a simple horizontal line."
   ]
  },
  {
   "cell_type": "code",
   "execution_count": 110,
   "id": "550355f7",
   "metadata": {},
   "outputs": [],
   "source": [
    "# Calculate evaluation metrics\n",
    "mse = mean_squared_error(y_test, y_pred) \n",
    "rmse = np.sqrt(mse)\n",
    "r2 = r2_score(y_test, y_pred)"
   ]
  },
  {
   "cell_type": "code",
   "execution_count": 111,
   "id": "6f0e982b",
   "metadata": {},
   "outputs": [
    {
     "name": "stdout",
     "output_type": "stream",
     "text": [
      "Mean Squared Error (MSE): 1.7879372464123533\n",
      "Root Mean Squared Error (RMSE): 1.3371377066003163\n",
      "R-squared (R2) Score: 0.015924472175747995\n"
     ]
    }
   ],
   "source": [
    "# Lower MSE values and higher R2 scores indicate better model performance.\n",
    "print(\"Mean Squared Error (MSE):\", mse)\n",
    "print(\"Root Mean Squared Error (RMSE):\", rmse)\n",
    "print(\"R-squared (R2) Score:\", r2)\n"
   ]
  },
  {
   "cell_type": "code",
   "execution_count": 112,
   "id": "168df7f2",
   "metadata": {},
   "outputs": [],
   "source": [
    "from sklearn.tree import DecisionTreeRegressor\n",
    "# Train the decision tree regressor\n",
    "dt_model = DecisionTreeRegressor()\n",
    "dt_model.fit(x_train, y_train)\n",
    "# Predict on the test set\n",
    "dt_pred = dt_model.predict(x_test)"
   ]
  },
  {
   "cell_type": "code",
   "execution_count": 113,
   "id": "afcba4be",
   "metadata": {},
   "outputs": [],
   "source": [
    "# Calculate evaluation metrics\n",
    "dt_mse = mean_squared_error(y_test,dt_pred) \n",
    "dt_rmse = np.sqrt(mse)\n",
    "dt_r2 = r2_score(y_test,dt_pred)"
   ]
  },
  {
   "cell_type": "code",
   "execution_count": 114,
   "id": "ca7f381d",
   "metadata": {},
   "outputs": [
    {
     "name": "stdout",
     "output_type": "stream",
     "text": [
      "Mean Squared Error (MSE): 2.719069810297259\n",
      "Root Mean Squared Error (RMSE): 1.3371377066003163\n",
      "R-squared (R2) Score: -0.49656821800005657\n"
     ]
    }
   ],
   "source": [
    "# Lower MSE values and higher R2 scores indicate better model performance.\n",
    "print(\"Mean Squared Error (MSE):\",dt_mse)\n",
    "print(\"Root Mean Squared Error (RMSE):\",dt_rmse)\n",
    "print(\"R-squared (R2) Score:\",dt_r2)"
   ]
  },
  {
   "cell_type": "code",
   "execution_count": null,
   "id": "45cb7280",
   "metadata": {},
   "outputs": [],
   "source": [
    " "
   ]
  },
  {
   "cell_type": "code",
   "execution_count": 115,
   "id": "18c508f7",
   "metadata": {},
   "outputs": [
    {
     "name": "stdout",
     "output_type": "stream",
     "text": [
      "Decision Tree Regressor selected as the best model.\n"
     ]
    }
   ],
   "source": [
    "# Compare and select the best-performing model\n",
    "if rmse <dt_rmse:\n",
    "    selected_model = linear_model\n",
    "    print(\"Linear Regression selected as the best model.\")\n",
    "else:\n",
    "    selected_model = dt_model\n",
    "    print(\"Decision Tree Regressor selected as the best model.\")"
   ]
  },
  {
   "cell_type": "code",
   "execution_count": 116,
   "id": "3ee5b71e",
   "metadata": {},
   "outputs": [],
   "source": [
    "from sklearn.svm import SVR"
   ]
  },
  {
   "cell_type": "code",
   "execution_count": null,
   "id": "cab8993e",
   "metadata": {},
   "outputs": [],
   "source": [
    "  "
   ]
  },
  {
   "cell_type": "code",
   "execution_count": null,
   "id": "2bafc695",
   "metadata": {},
   "outputs": [],
   "source": [
    " "
   ]
  },
  {
   "cell_type": "code",
   "execution_count": null,
   "id": "8ef26cb1",
   "metadata": {},
   "outputs": [],
   "source": [
    " "
   ]
  },
  {
   "cell_type": "code",
   "execution_count": null,
   "id": "fac31388",
   "metadata": {},
   "outputs": [],
   "source": [
    " "
   ]
  },
  {
   "cell_type": "code",
   "execution_count": null,
   "id": "ebbcd31a",
   "metadata": {},
   "outputs": [],
   "source": [
    " "
   ]
  },
  {
   "cell_type": "code",
   "execution_count": null,
   "id": "8465fe19",
   "metadata": {},
   "outputs": [],
   "source": [
    " "
   ]
  },
  {
   "cell_type": "raw",
   "id": "a12dc51b",
   "metadata": {},
   "source": [
    "Coefficient :  A positive coefficient indicates a positive relationship, where an increase in the independent variable corresponds to an increase in the dependent variable, while a negative coefficient indicates an inverse relationship.\n",
    "\n",
    "Intercept : The intercept, also known as the bias term or constant term, represents the value of the dependent variable when all independent variables are set to zero."
   ]
  },
  {
   "cell_type": "code",
   "execution_count": 117,
   "id": "66cc4e96",
   "metadata": {},
   "outputs": [],
   "source": [
    "# Coefficients(Slope) and intercept\n",
    "coefficients =model.coef_\n",
    "intercept =model.intercept_"
   ]
  },
  {
   "cell_type": "code",
   "execution_count": null,
   "id": "21f48e37",
   "metadata": {},
   "outputs": [],
   "source": [
    " "
   ]
  },
  {
   "cell_type": "code",
   "execution_count": null,
   "id": "3f9be735",
   "metadata": {},
   "outputs": [],
   "source": [
    " "
   ]
  },
  {
   "cell_type": "code",
   "execution_count": null,
   "id": "6ba225b5",
   "metadata": {},
   "outputs": [],
   "source": []
  },
  {
   "cell_type": "markdown",
   "id": "0cd0f1a2",
   "metadata": {},
   "source": [
    "MSE is used to check how close estimates or forecasts are to actual values. Lower the MSE, the closer is forecast to actual. This is used as a model evaluation measure for regression models and the lower value indicates a better fit.\n",
    "\n",
    "For root mean square error Small value indicates better model. Value lies between 0 to ∞\n",
    " "
   ]
  },
  {
   "cell_type": "code",
   "execution_count": null,
   "id": "9d958b94",
   "metadata": {},
   "outputs": [],
   "source": []
  },
  {
   "cell_type": "code",
   "execution_count": 118,
   "id": "c45eb72b",
   "metadata": {},
   "outputs": [],
   "source": [
    "x=df[['customer_city','freight_value','order_month','order_day_of_week','delivery_time']]\n",
    "y = df['review_score'] "
   ]
  },
  {
   "cell_type": "code",
   "execution_count": 119,
   "id": "d7aa55c2",
   "metadata": {},
   "outputs": [
    {
     "name": "stdout",
     "output_type": "stream",
     "text": [
      "<class 'pandas.core.frame.DataFrame'>\n",
      "Int64Index: 65521 entries, 0 to 65520\n",
      "Data columns (total 5 columns):\n",
      " #   Column             Non-Null Count  Dtype  \n",
      "---  ------             --------------  -----  \n",
      " 0   customer_city      65521 non-null  int32  \n",
      " 1   freight_value      65521 non-null  float64\n",
      " 2   order_month        65521 non-null  int64  \n",
      " 3   order_day_of_week  65521 non-null  int64  \n",
      " 4   delivery_time      65521 non-null  int64  \n",
      "dtypes: float64(1), int32(1), int64(3)\n",
      "memory usage: 4.8 MB\n"
     ]
    }
   ],
   "source": [
    "x.info()"
   ]
  },
  {
   "cell_type": "code",
   "execution_count": 120,
   "id": "158dd7bd",
   "metadata": {},
   "outputs": [
    {
     "name": "stderr",
     "output_type": "stream",
     "text": [
      "<ipython-input-120-27288fdebc33>:5: SettingWithCopyWarning: \n",
      "A value is trying to be set on a copy of a slice from a DataFrame.\n",
      "Try using .loc[row_indexer,col_indexer] = value instead\n",
      "\n",
      "See the caveats in the documentation: https://pandas.pydata.org/pandas-docs/stable/user_guide/indexing.html#returning-a-view-versus-a-copy\n",
      "  x[col] = le.fit_transform(x[col])\n"
     ]
    }
   ],
   "source": [
    "from sklearn.preprocessing import LabelEncoder, StandardScaler\n",
    "label_encoders = {}\n",
    "for col in ['freight_value']:\n",
    "    le = LabelEncoder()\n",
    "    x[col] = le.fit_transform(x[col])\n",
    "    label_encoders[col] = le"
   ]
  },
  {
   "cell_type": "code",
   "execution_count": 121,
   "id": "c167994c",
   "metadata": {},
   "outputs": [],
   "source": [
    " # Split the data into training and testing sets\n",
    "x_train, x_test, y_train, y_test = train_test_split(x,y, test_size=0.2, random_state=42)"
   ]
  },
  {
   "cell_type": "code",
   "execution_count": 122,
   "id": "ca2df6c5",
   "metadata": {},
   "outputs": [],
   "source": [
    " # Model 1: Linear Regression\n",
    "model = LinearRegression()\n",
    "model.fit(x_train,y_train) \n",
    "y_pred=model.predict(x_test)\n"
   ]
  },
  {
   "cell_type": "code",
   "execution_count": 123,
   "id": "0d1cee71",
   "metadata": {},
   "outputs": [],
   "source": [
    "# Calculate evaluation metrics\n",
    "mse = mean_squared_error(y_test, y_pred) \n",
    "rmse = np.sqrt(mse)\n",
    "r2 = r2_score(y_test, y_pred)"
   ]
  },
  {
   "cell_type": "code",
   "execution_count": 124,
   "id": "1abfc547",
   "metadata": {},
   "outputs": [
    {
     "name": "stdout",
     "output_type": "stream",
     "text": [
      "Mean Squared Error (MSE): 1.810185994715775\n",
      "Root Mean Squared Error (RMSE): 1.3454315273233992\n",
      "R-squared (R2) Score: 0.003678824978648798\n"
     ]
    }
   ],
   "source": [
    "# Lower MSE values and higher R2 scores indicate better model performance.\n",
    "print(\"Mean Squared Error (MSE):\", mse)\n",
    "print(\"Root Mean Squared Error (RMSE):\", rmse)\n",
    "print(\"R-squared (R2) Score:\", r2)"
   ]
  },
  {
   "cell_type": "code",
   "execution_count": 125,
   "id": "d3ccb2ab",
   "metadata": {},
   "outputs": [],
   "source": [
    "from sklearn.tree import DecisionTreeRegressor\n",
    "# Train the decision tree regressor\n",
    "dt_model = DecisionTreeRegressor()\n",
    "dt_model.fit(x_train, y_train)\n",
    "# Predict on the test set\n",
    "dt_pred = dt_model.predict(x_test)"
   ]
  },
  {
   "cell_type": "code",
   "execution_count": 126,
   "id": "2b6617b2",
   "metadata": {},
   "outputs": [],
   "source": [
    "# Calculate evaluation metrics\n",
    "dt_mse = mean_squared_error(y_test,dt_pred) \n",
    "dt_rmse = np.sqrt(mse)\n",
    "dt_r2 = r2_score(y_test,dt_pred)"
   ]
  },
  {
   "cell_type": "code",
   "execution_count": 127,
   "id": "5f0d0be8",
   "metadata": {},
   "outputs": [
    {
     "name": "stdout",
     "output_type": "stream",
     "text": [
      "Mean Squared Error (MSE): 2.5184519328004704\n",
      "Root Mean Squared Error (RMSE): 1.3454315273233992\n",
      "R-squared (R2) Score: -0.38614871413616036\n"
     ]
    }
   ],
   "source": [
    "# Lower MSE values and higher R2 scores indicate better model performance.\n",
    "print(\"Mean Squared Error (MSE):\",dt_mse)\n",
    "print(\"Root Mean Squared Error (RMSE):\",dt_rmse)\n",
    "print(\"R-squared (R2) Score:\",dt_r2)"
   ]
  },
  {
   "cell_type": "code",
   "execution_count": 128,
   "id": "e26bcfda",
   "metadata": {},
   "outputs": [],
   "source": [
    "x=df[['product_category_name_english','order_month','order_day_of_week','order_hour_of_day','delivery_time']]\n",
    "y = df['review_score']  "
   ]
  },
  {
   "cell_type": "code",
   "execution_count": 129,
   "id": "4a844420",
   "metadata": {},
   "outputs": [
    {
     "name": "stdout",
     "output_type": "stream",
     "text": [
      "<class 'pandas.core.frame.DataFrame'>\n",
      "Int64Index: 65521 entries, 0 to 65520\n",
      "Data columns (total 5 columns):\n",
      " #   Column                         Non-Null Count  Dtype \n",
      "---  ------                         --------------  ----- \n",
      " 0   product_category_name_english  65521 non-null  object\n",
      " 1   order_month                    65521 non-null  int64 \n",
      " 2   order_day_of_week              65521 non-null  int64 \n",
      " 3   order_hour_of_day              65521 non-null  int64 \n",
      " 4   delivery_time                  65521 non-null  int64 \n",
      "dtypes: int64(4), object(1)\n",
      "memory usage: 5.0+ MB\n"
     ]
    }
   ],
   "source": [
    "x.info()"
   ]
  },
  {
   "cell_type": "code",
   "execution_count": 130,
   "id": "ed91ea40",
   "metadata": {},
   "outputs": [
    {
     "name": "stderr",
     "output_type": "stream",
     "text": [
      "<ipython-input-130-f8b41fbb6a78>:5: SettingWithCopyWarning: \n",
      "A value is trying to be set on a copy of a slice from a DataFrame.\n",
      "Try using .loc[row_indexer,col_indexer] = value instead\n",
      "\n",
      "See the caveats in the documentation: https://pandas.pydata.org/pandas-docs/stable/user_guide/indexing.html#returning-a-view-versus-a-copy\n",
      "  x[col] = le.fit_transform(x[col])\n"
     ]
    }
   ],
   "source": [
    "from sklearn.preprocessing import LabelEncoder, StandardScaler\n",
    "label_encoders = {}\n",
    "for col in ['product_category_name_english']:\n",
    "    le = LabelEncoder()\n",
    "    x[col] = le.fit_transform(x[col])\n",
    "    label_encoders[col] = le"
   ]
  },
  {
   "cell_type": "code",
   "execution_count": 131,
   "id": "c52420da",
   "metadata": {},
   "outputs": [],
   "source": [
    " # Split the data into training and testing sets\n",
    "x_train, x_test, y_train, y_test = train_test_split(x,y, test_size=0.2, random_state=42)"
   ]
  },
  {
   "cell_type": "code",
   "execution_count": 132,
   "id": "8c2e7eee",
   "metadata": {},
   "outputs": [],
   "source": [
    " # Model 1: Linear Regression\n",
    "model = LinearRegression()\n",
    "model.fit(x_train,y_train) \n",
    "y_pred=model.predict(x_test)"
   ]
  },
  {
   "cell_type": "code",
   "execution_count": 133,
   "id": "fa54d501",
   "metadata": {},
   "outputs": [],
   "source": [
    "# Calculate evaluation metrics\n",
    "mse = mean_squared_error(y_test, y_pred) \n",
    "rmse = np.sqrt(mse)\n",
    "r2 = r2_score(y_test, y_pred)"
   ]
  },
  {
   "cell_type": "code",
   "execution_count": 134,
   "id": "7d54c16e",
   "metadata": {},
   "outputs": [
    {
     "name": "stdout",
     "output_type": "stream",
     "text": [
      "Mean Squared Error (MSE): 1.8111003667946215\n",
      "Root Mean Squared Error (RMSE): 1.3457712906711234\n",
      "R-squared (R2) Score: 0.0031755572113241204\n"
     ]
    }
   ],
   "source": [
    "# Lower MSE values and higher R2 scores indicate better model performance.\n",
    "print(\"Mean Squared Error (MSE):\", mse)\n",
    "print(\"Root Mean Squared Error (RMSE):\", rmse)\n",
    "print(\"R-squared (R2) Score:\", r2)"
   ]
  },
  {
   "cell_type": "code",
   "execution_count": 135,
   "id": "7f1961c4",
   "metadata": {},
   "outputs": [],
   "source": [
    "def convert_to_category(review_score):\n",
    "    if review_score <= 2:\n",
    "        return \"Unsatisfied\"\n",
    "    else:\n",
    "        return \"Satisfied\""
   ]
  },
  {
   "cell_type": "code",
   "execution_count": 136,
   "id": "4665681a",
   "metadata": {},
   "outputs": [],
   "source": [
    "df['review_category'] =df['review_score'].apply(convert_to_category)"
   ]
  },
  {
   "cell_type": "code",
   "execution_count": 137,
   "id": "888ae4ce",
   "metadata": {},
   "outputs": [],
   "source": [
    "df=df[['payment_type','customer_city',\n",
    "     'freight_value','product_category_name_english','order_month','order_day_of_week','order_hour_of_day','delivery_time',\n",
    "     'order_quantity_range','price','review_category']]"
   ]
  },
  {
   "cell_type": "code",
   "execution_count": 138,
   "id": "092406cd",
   "metadata": {},
   "outputs": [],
   "source": [
    "# Specify the file path where you want to save the merged CSV\n",
    "file_path = \"C:\\olist_data\\df.csv\"\n",
    "df.to_csv(file_path, index=False)"
   ]
  },
  {
   "cell_type": "code",
   "execution_count": 139,
   "id": "5ddc9f3d",
   "metadata": {},
   "outputs": [],
   "source": [
    "from sklearn.naive_bayes import GaussianNB\n",
    "from sklearn.metrics import classification_report "
   ]
  },
  {
   "cell_type": "code",
   "execution_count": 140,
   "id": "b7743b67",
   "metadata": {},
   "outputs": [],
   "source": [
    "x=df[['payment_type','customer_city',\n",
    "     'freight_value','product_category_name_english','order_month','order_day_of_week','order_hour_of_day','delivery_time',\n",
    "     'order_quantity_range','price']]\n",
    "y=df['review_category']"
   ]
  },
  {
   "cell_type": "code",
   "execution_count": 141,
   "id": "4df726ad",
   "metadata": {},
   "outputs": [
    {
     "name": "stderr",
     "output_type": "stream",
     "text": [
      "<ipython-input-141-08578c2d3d64>:6: SettingWithCopyWarning: \n",
      "A value is trying to be set on a copy of a slice from a DataFrame.\n",
      "Try using .loc[row_indexer,col_indexer] = value instead\n",
      "\n",
      "See the caveats in the documentation: https://pandas.pydata.org/pandas-docs/stable/user_guide/indexing.html#returning-a-view-versus-a-copy\n",
      "  x[col] = le.fit_transform(x[col])\n"
     ]
    }
   ],
   "source": [
    " #converting categorical varaible to numeric \n",
    "from sklearn.preprocessing import LabelEncoder, StandardScaler\n",
    "label_encoders = {}\n",
    "for col in ['freight_value','product_category_name_english','order_quantity_range']:\n",
    "    le = LabelEncoder()\n",
    "    x[col] = le.fit_transform(x[col])\n",
    "    label_encoders[col] = le"
   ]
  },
  {
   "cell_type": "code",
   "execution_count": 142,
   "id": "fbfd29a3",
   "metadata": {},
   "outputs": [],
   "source": [
    "x_train, x_test, y_train, y_test = train_test_split(x, y, test_size=0.2, random_state=42)"
   ]
  },
  {
   "cell_type": "markdown",
   "id": "9862bd98",
   "metadata": {},
   "source": [
    "**SVM**"
   ]
  },
  {
   "cell_type": "markdown",
   "id": "2b847a44",
   "metadata": {},
   "source": [
    "a)linear kernel"
   ]
  },
  {
   "cell_type": "code",
   "execution_count": 143,
   "id": "6e8e10de",
   "metadata": {},
   "outputs": [],
   "source": [
    "from sklearn import svm"
   ]
  },
  {
   "cell_type": "markdown",
   "id": "2607274d",
   "metadata": {},
   "source": [
    "svm_model_a=svm.SVC(kernel='linear',class_weight='balanced')\n",
    "#ft the model\n",
    "svm_model_a.fit(x_train,y_train)"
   ]
  },
  {
   "cell_type": "markdown",
   "id": "870e490b",
   "metadata": {},
   "source": [
    "predictions_svm_a=svm_model_a.predict(x_test)"
   ]
  },
  {
   "cell_type": "markdown",
   "id": "b65a7f39",
   "metadata": {},
   "source": [
    "#Model evaluation\n",
    "svm_confusion_matrix_a=metrics.confusion_matrix(y_test,predictions_svm_a)\n",
    "svm_acc_score_a=metrics.accuracy_score(y_test,predictions_svm_a)*100\n",
    "print(\"Confuction matrix:\\n\",svm_confusion_matrix_a)\n",
    "print(\"******************************************************************\")\n",
    "print(\"Accuracy:\\n\",svm_acc_score_a)\n",
    "print(\"*******************************************************************\")\n",
    "print(\"Classification Report:\\n\",metrics.classification_report(y_test,predictions_svm_a))"
   ]
  },
  {
   "cell_type": "markdown",
   "id": "cd3d0295",
   "metadata": {},
   "source": [
    "b)rbf kernel"
   ]
  },
  {
   "cell_type": "raw",
   "id": "2e746272",
   "metadata": {},
   "source": [
    "svm_model_b=svm.SVC(kernel='rbf',class_weight='balanced')\n",
    "#fit the model\n",
    "svm_model_b.fit(x_train,y_train)\n",
    "predictions_svm_b=svm_model_b.predict(x_test)"
   ]
  },
  {
   "cell_type": "raw",
   "id": "840bdeca",
   "metadata": {},
   "source": [
    "#Model evaluation\n",
    "svm_confusion_matrix_b=metrics.confusion_matrix(y_test,predictions_svm_b)\n",
    "svm_acc_score_b=metrics.accuracy_score(y_test,predictions_svm_b)*100\n",
    "print(\"Confuction matrix:\\n\",svm_confusion_matrix_b)\n",
    "print(\"******************************************************************\")\n",
    "print(\"Accuracy:\\n\",svm_acc_score_b)\n",
    "print(\"*******************************************************************\")\n",
    "print(\"Classification Report:\\n\",metrics.classification_report(y_test,predictions_svm_b))"
   ]
  },
  {
   "cell_type": "markdown",
   "id": "2e0ffcb5",
   "metadata": {},
   "source": [
    "Naive bayes classifier"
   ]
  },
  {
   "cell_type": "code",
   "execution_count": 144,
   "id": "8dab0c6c",
   "metadata": {},
   "outputs": [],
   "source": [
    "nb_classifier =GaussianNB()\n",
    "nb_classifier.fit(x_train, y_train)\n",
    "prediction_1=nb_classifier.predict(x_test)"
   ]
  },
  {
   "cell_type": "code",
   "execution_count": 145,
   "id": "bba8f3b4",
   "metadata": {},
   "outputs": [],
   "source": [
    " from sklearn import metrics"
   ]
  },
  {
   "cell_type": "code",
   "execution_count": 146,
   "id": "8d64c988",
   "metadata": {},
   "outputs": [
    {
     "name": "stdout",
     "output_type": "stream",
     "text": [
      "Confustion matrix:\n",
      " [[9804  282]\n",
      " [2815  204]]\n",
      "***********************************************\n",
      "Accuracy:\n",
      " 76.3677985501717\n",
      "*******************************************************************\n",
      "Classification Report:\n",
      "               precision    recall  f1-score   support\n",
      "\n",
      "   Satisfied       0.78      0.97      0.86     10086\n",
      " Unsatisfied       0.42      0.07      0.12      3019\n",
      "\n",
      "    accuracy                           0.76     13105\n",
      "   macro avg       0.60      0.52      0.49     13105\n",
      "weighted avg       0.69      0.76      0.69     13105\n",
      "\n"
     ]
    }
   ],
   "source": [
    "#Model evaluation\n",
    "nb_confusion_matrix=metrics.confusion_matrix(y_test,prediction_1)\n",
    "nb_acc_score=metrics.accuracy_score(y_test,prediction_1)*100\n",
    "print(\"Confustion matrix:\\n\",nb_confusion_matrix)\n",
    "print(\"***********************************************\")\n",
    "print(\"Accuracy:\\n\",nb_acc_score)\n",
    "print(\"*******************************************************************\")\n",
    "print(\"Classification Report:\\n\",metrics.classification_report(y_test,prediction_1))"
   ]
  },
  {
   "cell_type": "code",
   "execution_count": null,
   "id": "b4397597",
   "metadata": {},
   "outputs": [],
   "source": [
    " "
   ]
  },
  {
   "cell_type": "code",
   "execution_count": null,
   "id": "d833ef7d",
   "metadata": {},
   "outputs": [],
   "source": [
    " "
   ]
  },
  {
   "cell_type": "code",
   "execution_count": 147,
   "id": "579ef76a",
   "metadata": {},
   "outputs": [],
   "source": [
    "from sklearn.tree import DecisionTreeClassifier"
   ]
  },
  {
   "cell_type": "code",
   "execution_count": 148,
   "id": "03afac64",
   "metadata": {},
   "outputs": [],
   "source": [
    "# Create an instance of the DecisionTreeClassifier\n",
    "classifier = DecisionTreeClassifier()\n",
    "\n",
    "# Train the classifier on the training data\n",
    "classifier.fit(x_train, y_train)\n",
    "\n",
    "# Make predictions on the testing data\n",
    "prediction_2= classifier.predict(x_test)\n"
   ]
  },
  {
   "cell_type": "code",
   "execution_count": 149,
   "id": "9f46ff56",
   "metadata": {},
   "outputs": [
    {
     "name": "stdout",
     "output_type": "stream",
     "text": [
      "Confustion matrix:\n",
      " [[8153 1933]\n",
      " [1597 1422]]\n",
      "***********************************************\n",
      "Accuracy:\n",
      " 73.06371613887829\n",
      "*******************************************************************\n",
      "Classification Report:\n",
      "               precision    recall  f1-score   support\n",
      "\n",
      "   Satisfied       0.84      0.81      0.82     10086\n",
      " Unsatisfied       0.42      0.47      0.45      3019\n",
      "\n",
      "    accuracy                           0.73     13105\n",
      "   macro avg       0.63      0.64      0.63     13105\n",
      "weighted avg       0.74      0.73      0.74     13105\n",
      "\n"
     ]
    }
   ],
   "source": [
    "#Model evaluation\n",
    "dt_confusion_matrix=metrics.confusion_matrix(y_test,prediction_2)\n",
    "dt_score=metrics.accuracy_score(y_test,prediction_2)*100\n",
    "print(\"Confustion matrix:\\n\",dt_confusion_matrix)\n",
    "print(\"***********************************************\")\n",
    " \n",
    "print(\"Accuracy:\\n\",dt_score)\n",
    "print(\"*******************************************************************\")\n",
    "print(\"Classification Report:\\n\",metrics.classification_report(y_test,prediction_2))"
   ]
  },
  {
   "cell_type": "code",
   "execution_count": null,
   "id": "9128e822",
   "metadata": {},
   "outputs": [],
   "source": [
    " "
   ]
  },
  {
   "cell_type": "code",
   "execution_count": 150,
   "id": "25cc3eea",
   "metadata": {},
   "outputs": [],
   "source": [
    "from sklearn.linear_model import LogisticRegression"
   ]
  },
  {
   "cell_type": "code",
   "execution_count": 151,
   "id": "da5fa81f",
   "metadata": {},
   "outputs": [],
   "source": [
    "lrmodel=LogisticRegression() "
   ]
  },
  {
   "cell_type": "code",
   "execution_count": 152,
   "id": "dcbb90bb",
   "metadata": {},
   "outputs": [
    {
     "name": "stderr",
     "output_type": "stream",
     "text": [
      "C:\\Users\\dell\\anaconda3\\lib\\site-packages\\sklearn\\linear_model\\_logistic.py:763: ConvergenceWarning: lbfgs failed to converge (status=1):\n",
      "STOP: TOTAL NO. of ITERATIONS REACHED LIMIT.\n",
      "\n",
      "Increase the number of iterations (max_iter) or scale the data as shown in:\n",
      "    https://scikit-learn.org/stable/modules/preprocessing.html\n",
      "Please also refer to the documentation for alternative solver options:\n",
      "    https://scikit-learn.org/stable/modules/linear_model.html#logistic-regression\n",
      "  n_iter_i = _check_optimize_result(\n"
     ]
    }
   ],
   "source": [
    "#fit the model\n",
    "lrmodel.fit(x_train,y_train)\n",
    "prediction3=lrmodel.predict(x_test)"
   ]
  },
  {
   "cell_type": "code",
   "execution_count": 153,
   "id": "b1b9b8a0",
   "metadata": {},
   "outputs": [],
   "source": [
    "from sklearn import metrics"
   ]
  },
  {
   "cell_type": "code",
   "execution_count": 154,
   "id": "d92455d6",
   "metadata": {},
   "outputs": [
    {
     "name": "stdout",
     "output_type": "stream",
     "text": [
      "******************************************************************\n",
      "Confustion matrix:\n",
      " [[10086     0]\n",
      " [ 3019     0]]\n",
      "***********************************************\n",
      "Accuracy:\n",
      " 76.96299122472338\n",
      "*******************************************************************\n"
     ]
    },
    {
     "name": "stderr",
     "output_type": "stream",
     "text": [
      "C:\\Users\\dell\\anaconda3\\lib\\site-packages\\sklearn\\metrics\\_classification.py:1245: UndefinedMetricWarning: Precision and F-score are ill-defined and being set to 0.0 in labels with no predicted samples. Use `zero_division` parameter to control this behavior.\n",
      "  _warn_prf(average, modifier, msg_start, len(result))\n"
     ]
    },
    {
     "name": "stdout",
     "output_type": "stream",
     "text": [
      "Classification Report:\n",
      "               precision    recall  f1-score   support\n",
      "\n",
      "   Satisfied       0.77      1.00      0.87     10086\n",
      " Unsatisfied       0.00      0.00      0.00      3019\n",
      "\n",
      "    accuracy                           0.77     13105\n",
      "   macro avg       0.38      0.50      0.43     13105\n",
      "weighted avg       0.59      0.77      0.67     13105\n",
      "\n"
     ]
    },
    {
     "name": "stderr",
     "output_type": "stream",
     "text": [
      "C:\\Users\\dell\\anaconda3\\lib\\site-packages\\sklearn\\metrics\\_classification.py:1245: UndefinedMetricWarning: Precision and F-score are ill-defined and being set to 0.0 in labels with no predicted samples. Use `zero_division` parameter to control this behavior.\n",
      "  _warn_prf(average, modifier, msg_start, len(result))\n",
      "C:\\Users\\dell\\anaconda3\\lib\\site-packages\\sklearn\\metrics\\_classification.py:1245: UndefinedMetricWarning: Precision and F-score are ill-defined and being set to 0.0 in labels with no predicted samples. Use `zero_division` parameter to control this behavior.\n",
      "  _warn_prf(average, modifier, msg_start, len(result))\n"
     ]
    }
   ],
   "source": [
    "#Model evaluation\n",
    "lr_confusion_matrix=metrics.confusion_matrix(y_test,prediction3)\n",
    "lr_acc_score=metrics.accuracy_score(y_test,prediction3)*100\n",
    "print(\"******************************************************************\")\n",
    "print(\"Confustion matrix:\\n\",lr_confusion_matrix)\n",
    "print(\"***********************************************\")\n",
    "print(\"Accuracy:\\n\",lr_acc_score)\n",
    "print(\"*******************************************************************\")\n",
    "print(\"Classification Report:\\n\",metrics.classification_report(y_test,prediction3))"
   ]
  },
  {
   "cell_type": "code",
   "execution_count": 155,
   "id": "eddf1947",
   "metadata": {},
   "outputs": [
    {
     "name": "stdout",
     "output_type": "stream",
     "text": [
      "                        Variable    Weight\n",
      "0                   payment_type -0.007035\n",
      "1                  customer_city -0.000091\n",
      "2                  freight_value  0.000044\n",
      "3  product_category_name_english -0.005219\n",
      "4                    order_month -0.048667\n",
      "5              order_day_of_week -0.013410\n",
      "6              order_hour_of_day -0.023916\n",
      "7                  delivery_time -0.005318\n",
      "8           order_quantity_range  0.019734\n",
      "9                          price -0.000414\n"
     ]
    }
   ],
   "source": [
    "# Get the coefficients of the variables\n",
    "coefficients =lrmodel.coef_[0]\n",
    "variable_weights = pd.DataFrame({'Variable': x.columns, 'Weight':coefficients})\n",
    "print(variable_weights)"
   ]
  },
  {
   "cell_type": "code",
   "execution_count": 156,
   "id": "6f4bef4c",
   "metadata": {},
   "outputs": [],
   "source": [
    "x2=df[[\"order_month\",\"order_day_of_week\",\"order_hour_of_day\",\"order_quantity_range\"]]"
   ]
  },
  {
   "cell_type": "code",
   "execution_count": 157,
   "id": "49c6c55d",
   "metadata": {},
   "outputs": [
    {
     "name": "stderr",
     "output_type": "stream",
     "text": [
      "<ipython-input-157-5f215626c328>:6: SettingWithCopyWarning: \n",
      "A value is trying to be set on a copy of a slice from a DataFrame.\n",
      "Try using .loc[row_indexer,col_indexer] = value instead\n",
      "\n",
      "See the caveats in the documentation: https://pandas.pydata.org/pandas-docs/stable/user_guide/indexing.html#returning-a-view-versus-a-copy\n",
      "  x2[col] = le.fit_transform(x2[col])\n"
     ]
    }
   ],
   "source": [
    " #converting categorical varaible to numeric \n",
    "from sklearn.preprocessing import LabelEncoder, StandardScaler\n",
    "label_encoders = {}\n",
    "for col in ['order_quantity_range']:\n",
    "    le = LabelEncoder()\n",
    "    x2[col] = le.fit_transform(x2[col])\n",
    "    label_encoders[col] = le"
   ]
  },
  {
   "cell_type": "code",
   "execution_count": 158,
   "id": "e5a41cba",
   "metadata": {},
   "outputs": [],
   "source": [
    "x_train, x_test, y_train, y_test = train_test_split(x2, y, test_size=0.2, random_state=42)"
   ]
  },
  {
   "cell_type": "code",
   "execution_count": 159,
   "id": "409a37c3",
   "metadata": {},
   "outputs": [],
   "source": [
    "lrmodel2=LogisticRegression() \n",
    "#fit the model\n",
    "lrmodel2.fit(x_train,y_train)\n",
    "prediction4=lrmodel2.predict(x_test)"
   ]
  },
  {
   "cell_type": "code",
   "execution_count": 160,
   "id": "24dbf883",
   "metadata": {},
   "outputs": [
    {
     "name": "stdout",
     "output_type": "stream",
     "text": [
      "******************************************************************\n",
      "Confustion matrix:\n",
      " [[10039    47]\n",
      " [ 2971    48]]\n",
      "***********************************************\n",
      "Accuracy:\n",
      " 76.97062190003815\n",
      "*******************************************************************\n",
      "Classification Report:\n",
      "               precision    recall  f1-score   support\n",
      "\n",
      "   Satisfied       0.77      1.00      0.87     10086\n",
      " Unsatisfied       0.51      0.02      0.03      3019\n",
      "\n",
      "    accuracy                           0.77     13105\n",
      "   macro avg       0.64      0.51      0.45     13105\n",
      "weighted avg       0.71      0.77      0.68     13105\n",
      "\n"
     ]
    }
   ],
   "source": [
    "#Model evaluation\n",
    "lr2_confusion_matrix=metrics.confusion_matrix(y_test,prediction4)\n",
    "lr2_acc_score=metrics.accuracy_score(y_test,prediction4)*100\n",
    "print(\"******************************************************************\")\n",
    "print(\"Confustion matrix:\\n\",lr2_confusion_matrix)\n",
    "print(\"***********************************************\")\n",
    "print(\"Accuracy:\\n\",lr2_acc_score)\n",
    "print(\"*******************************************************************\")\n",
    "print(\"Classification Report:\\n\",metrics.classification_report(y_test,prediction4))"
   ]
  },
  {
   "cell_type": "code",
   "execution_count": 161,
   "id": "2e422851",
   "metadata": {},
   "outputs": [
    {
     "data": {
      "text/html": [
       "<div>\n",
       "<style scoped>\n",
       "    .dataframe tbody tr th:only-of-type {\n",
       "        vertical-align: middle;\n",
       "    }\n",
       "\n",
       "    .dataframe tbody tr th {\n",
       "        vertical-align: top;\n",
       "    }\n",
       "\n",
       "    .dataframe thead th {\n",
       "        text-align: right;\n",
       "    }\n",
       "</style>\n",
       "<table border=\"1\" class=\"dataframe\">\n",
       "  <thead>\n",
       "    <tr style=\"text-align: right;\">\n",
       "      <th></th>\n",
       "      <th>Model</th>\n",
       "      <th>Accuracy</th>\n",
       "    </tr>\n",
       "  </thead>\n",
       "  <tbody>\n",
       "    <tr>\n",
       "      <th>3</th>\n",
       "      <td>LR2</td>\n",
       "      <td>76.970622</td>\n",
       "    </tr>\n",
       "    <tr>\n",
       "      <th>1</th>\n",
       "      <td>Logistic Regression</td>\n",
       "      <td>76.962991</td>\n",
       "    </tr>\n",
       "    <tr>\n",
       "      <th>2</th>\n",
       "      <td>Naive Bayes Classifier</td>\n",
       "      <td>76.367799</td>\n",
       "    </tr>\n",
       "    <tr>\n",
       "      <th>0</th>\n",
       "      <td>Decision Tree</td>\n",
       "      <td>73.063716</td>\n",
       "    </tr>\n",
       "  </tbody>\n",
       "</table>\n",
       "</div>"
      ],
      "text/plain": [
       "                    Model   Accuracy\n",
       "3                     LR2  76.970622\n",
       "1     Logistic Regression  76.962991\n",
       "2  Naive Bayes Classifier  76.367799\n",
       "0           Decision Tree  73.063716"
      ]
     },
     "execution_count": 161,
     "metadata": {},
     "output_type": "execute_result"
    }
   ],
   "source": [
    "models=pd.DataFrame({'Model':['Decision Tree','Logistic Regression','Naive Bayes Classifier','LR2'],\n",
    "                    'Accuracy':[dt_score,lr_acc_score,nb_acc_score,lr2_acc_score]})\n",
    "models.sort_values(by='Accuracy',ascending=False)"
   ]
  },
  {
   "cell_type": "code",
   "execution_count": null,
   "id": "cfec2f81",
   "metadata": {},
   "outputs": [],
   "source": []
  },
  {
   "cell_type": "raw",
   "id": "1113138e",
   "metadata": {},
   "source": [
    "A high precision indicates that when the classifier predicts a positive result, it is likely to be correct. However, it does not consider false negatives (instances that were actually positive but predicted as negative), so a high precision does not necessarily mean the classifier has few false negatives.\n",
    "\n",
    "Recall focuses on the ability of the classifier to find all positive instances. A high recall indicates that the classifier is good at finding positive instances, even if it has a high number of false positives. It does not consider false positives, so a high recall does not necessarily mean the classifier has few false positives.\n",
    "\n",
    "The F1 score ranges from 0 to 1, where 1 represents the best possible value (perfect precision and recall) and 0 represents the worst value (both precision and recall are 0). The F1 score is a good metric to use when you want to balance between precision and recall and when you have imbalanced classes."
   ]
  },
  {
   "cell_type": "raw",
   "id": "9d027ed8",
   "metadata": {},
   "source": [
    " Precision and recall are useful when dealing with imbalanced datasets or when the cost of false positives and false negatives differs.\n",
    "Precision is useful when the focus is on minimizing false positives.\n",
    "Recall is useful when the emphasis is on minimizing false negatives .\n",
    "F1 score is a good metric when both false positives and false negatives need to be minimized."
   ]
  },
  {
   "cell_type": "code",
   "execution_count": null,
   "id": "3b59ec5c",
   "metadata": {},
   "outputs": [],
   "source": [
    " "
   ]
  },
  {
   "cell_type": "code",
   "execution_count": null,
   "id": "84fd7c80",
   "metadata": {},
   "outputs": [],
   "source": [
    " "
   ]
  },
  {
   "cell_type": "code",
   "execution_count": null,
   "id": "092d4ab1",
   "metadata": {},
   "outputs": [],
   "source": []
  },
  {
   "cell_type": "code",
   "execution_count": null,
   "id": "18034edd",
   "metadata": {},
   "outputs": [],
   "source": [
    " "
   ]
  },
  {
   "cell_type": "code",
   "execution_count": null,
   "id": "90a28e7e",
   "metadata": {},
   "outputs": [],
   "source": []
  },
  {
   "cell_type": "code",
   "execution_count": null,
   "id": "6e53c4ab",
   "metadata": {},
   "outputs": [],
   "source": [
    " \n",
    "    "
   ]
  },
  {
   "cell_type": "code",
   "execution_count": null,
   "id": "dfb22c09",
   "metadata": {},
   "outputs": [],
   "source": [
    " "
   ]
  },
  {
   "cell_type": "raw",
   "id": "d5d1f307",
   "metadata": {},
   "source": []
  },
  {
   "cell_type": "code",
   "execution_count": null,
   "id": "f15f6d96",
   "metadata": {},
   "outputs": [],
   "source": []
  },
  {
   "cell_type": "code",
   "execution_count": null,
   "id": "09b31a7a",
   "metadata": {},
   "outputs": [],
   "source": [
    " \n"
   ]
  },
  {
   "cell_type": "code",
   "execution_count": null,
   "id": "b090bbad",
   "metadata": {},
   "outputs": [],
   "source": [
    " "
   ]
  },
  {
   "cell_type": "code",
   "execution_count": null,
   "id": "9a841068",
   "metadata": {},
   "outputs": [],
   "source": [
    " "
   ]
  },
  {
   "cell_type": "code",
   "execution_count": null,
   "id": "fc348725",
   "metadata": {},
   "outputs": [],
   "source": [
    " "
   ]
  },
  {
   "cell_type": "code",
   "execution_count": null,
   "id": "5fcdcdd5",
   "metadata": {
    "scrolled": true
   },
   "outputs": [],
   "source": [
    " "
   ]
  },
  {
   "cell_type": "code",
   "execution_count": null,
   "id": "365ff8b4",
   "metadata": {},
   "outputs": [],
   "source": [
    " "
   ]
  },
  {
   "cell_type": "code",
   "execution_count": null,
   "id": "444d4b21",
   "metadata": {},
   "outputs": [],
   "source": [
    " "
   ]
  },
  {
   "cell_type": "code",
   "execution_count": null,
   "id": "795c7c6f",
   "metadata": {},
   "outputs": [],
   "source": [
    " "
   ]
  },
  {
   "cell_type": "code",
   "execution_count": null,
   "id": "8fd1a9ba",
   "metadata": {},
   "outputs": [],
   "source": [
    " "
   ]
  },
  {
   "cell_type": "code",
   "execution_count": null,
   "id": "d855f32b",
   "metadata": {},
   "outputs": [],
   "source": [
    " "
   ]
  },
  {
   "cell_type": "code",
   "execution_count": null,
   "id": "b1a6aa19",
   "metadata": {},
   "outputs": [],
   "source": [
    " "
   ]
  },
  {
   "cell_type": "code",
   "execution_count": null,
   "id": "51f80926",
   "metadata": {},
   "outputs": [],
   "source": [
    " "
   ]
  },
  {
   "cell_type": "code",
   "execution_count": null,
   "id": "70e4b121",
   "metadata": {},
   "outputs": [],
   "source": [
    " "
   ]
  },
  {
   "cell_type": "code",
   "execution_count": null,
   "id": "4d3b37eb",
   "metadata": {},
   "outputs": [],
   "source": [
    " \n",
    "    "
   ]
  },
  {
   "cell_type": "code",
   "execution_count": null,
   "id": "ee43a27b",
   "metadata": {},
   "outputs": [],
   "source": [
    " "
   ]
  },
  {
   "cell_type": "code",
   "execution_count": null,
   "id": "a1332028",
   "metadata": {},
   "outputs": [],
   "source": []
  },
  {
   "cell_type": "code",
   "execution_count": null,
   "id": "d2b2a30a",
   "metadata": {},
   "outputs": [],
   "source": [
    " "
   ]
  },
  {
   "cell_type": "code",
   "execution_count": null,
   "id": "5b97ef6c",
   "metadata": {},
   "outputs": [],
   "source": [
    " "
   ]
  },
  {
   "cell_type": "code",
   "execution_count": null,
   "id": "6ad7bb3f",
   "metadata": {},
   "outputs": [],
   "source": [
    " "
   ]
  },
  {
   "cell_type": "code",
   "execution_count": null,
   "id": "e57135da",
   "metadata": {},
   "outputs": [],
   "source": [
    " "
   ]
  },
  {
   "cell_type": "code",
   "execution_count": null,
   "id": "5733ebbe",
   "metadata": {},
   "outputs": [],
   "source": [
    " "
   ]
  },
  {
   "cell_type": "code",
   "execution_count": null,
   "id": "75dd8322",
   "metadata": {},
   "outputs": [],
   "source": [
    " "
   ]
  },
  {
   "cell_type": "code",
   "execution_count": null,
   "id": "2abc4c64",
   "metadata": {},
   "outputs": [],
   "source": []
  },
  {
   "cell_type": "code",
   "execution_count": null,
   "id": "05593dc9",
   "metadata": {},
   "outputs": [],
   "source": []
  }
 ],
 "metadata": {
  "kernelspec": {
   "display_name": "Python 3",
   "language": "python",
   "name": "python3"
  },
  "language_info": {
   "codemirror_mode": {
    "name": "ipython",
    "version": 3
   },
   "file_extension": ".py",
   "mimetype": "text/x-python",
   "name": "python",
   "nbconvert_exporter": "python",
   "pygments_lexer": "ipython3",
   "version": "3.8.5"
  }
 },
 "nbformat": 4,
 "nbformat_minor": 5
}
